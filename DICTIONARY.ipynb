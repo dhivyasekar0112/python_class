{
 "cells": [
  {
   "cell_type": "code",
   "execution_count": 1,
   "id": "060dff1a",
   "metadata": {},
   "outputs": [
    {
     "data": {
      "text/plain": [
       "dict"
      ]
     },
     "execution_count": 1,
     "metadata": {},
     "output_type": "execute_result"
    }
   ],
   "source": [
    "GOVI = {1:\"DHIVI\",2:\"LAKSH\",3:\"JAYA\"}\n",
    "type(GOVI)"
   ]
  },
  {
   "cell_type": "code",
   "execution_count": 2,
   "id": "8fe2d39e",
   "metadata": {},
   "outputs": [
    {
     "data": {
      "text/plain": [
       "'LAKSH'"
      ]
     },
     "execution_count": 2,
     "metadata": {},
     "output_type": "execute_result"
    }
   ],
   "source": [
    "GOVI[2]"
   ]
  },
  {
   "cell_type": "code",
   "execution_count": 3,
   "id": "55adb782",
   "metadata": {},
   "outputs": [
    {
     "data": {
      "text/plain": [
       "{1: 'DHIVI', 2: 'SEKAR', 3: 'JAYA'}"
      ]
     },
     "execution_count": 3,
     "metadata": {},
     "output_type": "execute_result"
    }
   ],
   "source": [
    "GOVI[2] = \"SEKAR\" \n",
    "GOVI"
   ]
  },
  {
   "cell_type": "code",
   "execution_count": 4,
   "id": "bd6d206e",
   "metadata": {},
   "outputs": [
    {
     "data": {
      "text/plain": [
       "dict_keys([1, 2, 3])"
      ]
     },
     "execution_count": 4,
     "metadata": {},
     "output_type": "execute_result"
    }
   ],
   "source": [
    "GOVI.keys()"
   ]
  },
  {
   "cell_type": "code",
   "execution_count": 5,
   "id": "196d52da",
   "metadata": {},
   "outputs": [
    {
     "data": {
      "text/plain": [
       "dict_values(['DHIVI', 'SEKAR', 'JAYA'])"
      ]
     },
     "execution_count": 5,
     "metadata": {},
     "output_type": "execute_result"
    }
   ],
   "source": [
    "GOVI.values()"
   ]
  },
  {
   "cell_type": "code",
   "execution_count": 6,
   "id": "a382e4f9",
   "metadata": {},
   "outputs": [
    {
     "data": {
      "text/plain": [
       "'SEKAR'"
      ]
     },
     "execution_count": 6,
     "metadata": {},
     "output_type": "execute_result"
    }
   ],
   "source": [
    "GOVI.get(2)"
   ]
  },
  {
   "cell_type": "code",
   "execution_count": 7,
   "id": "2bcf9bd2",
   "metadata": {},
   "outputs": [
    {
     "data": {
      "text/plain": [
       "{'D': None, 'H': None, 'I': None, 'V': None}"
      ]
     },
     "execution_count": 7,
     "metadata": {},
     "output_type": "execute_result"
    }
   ],
   "source": [
    "GOVI.fromkeys(\"DHIVI\")"
   ]
  },
  {
   "cell_type": "code",
   "execution_count": 8,
   "id": "9e9a6f22",
   "metadata": {},
   "outputs": [
    {
     "data": {
      "text/plain": [
       "dict_items([(1, 'DHIVI'), (2, 'SEKAR'), (3, 'JAYA')])"
      ]
     },
     "execution_count": 8,
     "metadata": {},
     "output_type": "execute_result"
    }
   ],
   "source": [
    "GOVI.items()"
   ]
  },
  {
   "cell_type": "code",
   "execution_count": 9,
   "id": "79746668",
   "metadata": {},
   "outputs": [
    {
     "data": {
      "text/plain": [
       "'SEKAR'"
      ]
     },
     "execution_count": 9,
     "metadata": {},
     "output_type": "execute_result"
    }
   ],
   "source": [
    "GOVI.pop(2)"
   ]
  },
  {
   "cell_type": "code",
   "execution_count": 10,
   "id": "04f5c8a8",
   "metadata": {},
   "outputs": [
    {
     "data": {
      "text/plain": [
       "{1: 'DHIVI', 3: 'JAYA'}"
      ]
     },
     "execution_count": 10,
     "metadata": {},
     "output_type": "execute_result"
    }
   ],
   "source": [
    "GOVI"
   ]
  },
  {
   "cell_type": "code",
   "execution_count": 11,
   "id": "4b501880",
   "metadata": {},
   "outputs": [
    {
     "data": {
      "text/plain": [
       "(3, 'JAYA')"
      ]
     },
     "execution_count": 11,
     "metadata": {},
     "output_type": "execute_result"
    }
   ],
   "source": [
    "GOVI.popitem()"
   ]
  },
  {
   "cell_type": "code",
   "execution_count": 12,
   "id": "93cd5d75",
   "metadata": {},
   "outputs": [
    {
     "data": {
      "text/plain": [
       "{1: 'DHIVI'}"
      ]
     },
     "execution_count": 12,
     "metadata": {},
     "output_type": "execute_result"
    }
   ],
   "source": [
    "GOVI"
   ]
  },
  {
   "cell_type": "code",
   "execution_count": 13,
   "id": "c65d9353",
   "metadata": {},
   "outputs": [
    {
     "data": {
      "text/plain": [
       "{1: 'DHIVI', 'DATA': None}"
      ]
     },
     "execution_count": 13,
     "metadata": {},
     "output_type": "execute_result"
    }
   ],
   "source": [
    "GOVI.setdefault(\"DATA\")\n",
    "GOVI"
   ]
  },
  {
   "cell_type": "code",
   "execution_count": 14,
   "id": "7853199f",
   "metadata": {},
   "outputs": [
    {
     "data": {
      "text/plain": [
       "{1: 'DHIVI', 'DATA': None}"
      ]
     },
     "execution_count": 14,
     "metadata": {},
     "output_type": "execute_result"
    }
   ],
   "source": [
    "A = GOVI.copy()\n",
    "A"
   ]
  },
  {
   "cell_type": "code",
   "execution_count": 15,
   "id": "03dd9457",
   "metadata": {},
   "outputs": [
    {
     "data": {
      "text/plain": [
       "{}"
      ]
     },
     "execution_count": 15,
     "metadata": {},
     "output_type": "execute_result"
    }
   ],
   "source": [
    "A.clear()\n",
    "A"
   ]
  }
 ],
 "metadata": {
  "kernelspec": {
   "display_name": "Python 3 (ipykernel)",
   "language": "python",
   "name": "python3"
  },
  "language_info": {
   "codemirror_mode": {
    "name": "ipython",
    "version": 3
   },
   "file_extension": ".py",
   "mimetype": "text/x-python",
   "name": "python",
   "nbconvert_exporter": "python",
   "pygments_lexer": "ipython3",
   "version": "3.10.9"
  }
 },
 "nbformat": 4,
 "nbformat_minor": 5
}
