{
 "cells": [
  {
   "cell_type": "markdown",
   "id": "100e07fd",
   "metadata": {},
   "source": [
    "# PYTHON\n"
   ]
  },
  {
   "cell_type": "markdown",
   "id": "d7da089e",
   "metadata": {},
   "source": [
    "#GUIDO VAN ROSSUM - 1989\n",
    "\n",
    "#OPEN SOURCE ACCEPTED IN THE YEAR OF FEB 20th 1991\n",
    "\n",
    "#PYTHON IS OPEN SOURCE AND FREE WARE\n",
    "\n",
    "#PYTHON IS HIGH LEVEL PROGRAMMIG LANGUAGE\n",
    "\n",
    "#ITS DYNAMICALLY TYPED PROGRAMMING LANGUAGE\n",
    "\n",
    "#EXTINSIVE LIBRARY SUPPORT\n",
    "\n"
   ]
  },
  {
   "cell_type": "markdown",
   "id": "99111bf9",
   "metadata": {},
   "source": [
    "# IDENTIFIERS"
   ]
  },
  {
   "cell_type": "markdown",
   "id": "f1963956",
   "metadata": {},
   "source": [
    "RULES OF IDENTIFIERS:\n",
    "\n",
    "#starting should be alphabets or underscore\n",
    "\n",
    "#should not start with numbers or any othersymbol \n",
    "\n",
    "#case sensitive"
   ]
  },
  {
   "cell_type": "code",
   "execution_count": null,
   "id": "bd7a788f",
   "metadata": {},
   "outputs": [],
   "source": [
    "a=55\n",
    "print(a)"
   ]
  },
  {
   "cell_type": "code",
   "execution_count": 16,
   "id": "7c0b6786",
   "metadata": {},
   "outputs": [
    {
     "name": "stdout",
     "output_type": "stream",
     "text": [
      "41\n"
     ]
    }
   ],
   "source": [
    "_dhivya_sekar=41\n",
    "print(_dhivya_sekar)"
   ]
  },
  {
   "cell_type": "code",
   "execution_count": 3,
   "id": "07641a95",
   "metadata": {},
   "outputs": [
    {
     "name": "stdout",
     "output_type": "stream",
     "text": [
      "dhivya sekar\n"
     ]
    }
   ],
   "source": [
    "a='dhivya'\n",
    "A='sekar'\n",
    "print(a,A)"
   ]
  },
  {
   "cell_type": "markdown",
   "id": "f3eb4ad1",
   "metadata": {},
   "source": [
    "# RESERVED WORDS"
   ]
  },
  {
   "cell_type": "markdown",
   "id": "585b6c67",
   "metadata": {},
   "source": [
    "unable to use these reserved word as a variable name"
   ]
  },
  {
   "cell_type": "code",
   "execution_count": 4,
   "id": "d1e9fd29",
   "metadata": {},
   "outputs": [
    {
     "name": "stdout",
     "output_type": "stream",
     "text": [
      "['False', 'None', 'True', 'and', 'as', 'assert', 'async', 'await', 'break', 'class', 'continue', 'def', 'del', 'elif', 'else', 'except', 'finally', 'for', 'from', 'global', 'if', 'import', 'in', 'is', 'lambda', 'nonlocal', 'not', 'or', 'pass', 'raise', 'return', 'try', 'while', 'with', 'yield']\n"
     ]
    },
    {
     "data": {
      "text/plain": [
       "35"
      ]
     },
     "execution_count": 4,
     "metadata": {},
     "output_type": "execute_result"
    }
   ],
   "source": [
    "import keyword\n",
    "a=keyword.kwlist\n",
    "print(a)\n",
    "len(a)"
   ]
  },
  {
   "cell_type": "markdown",
   "id": "41512330",
   "metadata": {},
   "source": [
    "# DATA TYPES"
   ]
  },
  {
   "cell_type": "markdown",
   "id": "ba038c32",
   "metadata": {},
   "source": [
    "1)Integer\n",
    "\n",
    "2)float\n",
    "\n",
    "3)complex\n",
    "\n",
    "4)string\n",
    "\n",
    "5)list\n",
    "\n",
    "6)tuple\n",
    "\n",
    "7)set\n",
    "\n",
    "8)dictionary\n",
    "\n",
    "9)range\n",
    "\n",
    "10)boolean\n",
    "\n",
    "11)bytes\n",
    "\n",
    "12)frozenset\n",
    "\n",
    "13)byte array\n",
    "\n",
    "14)none type"
   ]
  },
  {
   "cell_type": "markdown",
   "id": "f3ea73be",
   "metadata": {},
   "source": [
    "# INTEGER"
   ]
  },
  {
   "cell_type": "code",
   "execution_count": 5,
   "id": "5a99db3e",
   "metadata": {},
   "outputs": [
    {
     "data": {
      "text/plain": [
       "int"
      ]
     },
     "execution_count": 5,
     "metadata": {},
     "output_type": "execute_result"
    }
   ],
   "source": [
    "a=2356\n",
    "type(a)"
   ]
  },
  {
   "cell_type": "code",
   "execution_count": 18,
   "id": "076845d3",
   "metadata": {},
   "outputs": [
    {
     "data": {
      "text/plain": [
       "int"
      ]
     },
     "execution_count": 18,
     "metadata": {},
     "output_type": "execute_result"
    }
   ],
   "source": [
    "F = -5\n",
    "type(F)"
   ]
  },
  {
   "cell_type": "markdown",
   "id": "83185cae",
   "metadata": {},
   "source": [
    "# FLOAT"
   ]
  },
  {
   "cell_type": "code",
   "execution_count": 6,
   "id": "5ec49ef5",
   "metadata": {},
   "outputs": [
    {
     "data": {
      "text/plain": [
       "float"
      ]
     },
     "execution_count": 6,
     "metadata": {},
     "output_type": "execute_result"
    }
   ],
   "source": [
    "b=44.77\n",
    "type(b)"
   ]
  },
  {
   "cell_type": "markdown",
   "id": "347241cc",
   "metadata": {},
   "source": [
    "# COMPLEX"
   ]
  },
  {
   "cell_type": "markdown",
   "id": "4271c80e",
   "metadata": {},
   "source": [
    "format = a+bj"
   ]
  },
  {
   "cell_type": "code",
   "execution_count": 7,
   "id": "2b963fff",
   "metadata": {},
   "outputs": [
    {
     "data": {
      "text/plain": [
       "complex"
      ]
     },
     "execution_count": 7,
     "metadata": {},
     "output_type": "execute_result"
    }
   ],
   "source": [
    "c=8+3j\n",
    "type(c)"
   ]
  },
  {
   "cell_type": "markdown",
   "id": "3dbfe048",
   "metadata": {},
   "source": [
    "# BOOLEAN"
   ]
  },
  {
   "cell_type": "markdown",
   "id": "188c0f7d",
   "metadata": {},
   "source": [
    "True - 1\n",
    "False - 0"
   ]
  },
  {
   "cell_type": "code",
   "execution_count": 8,
   "id": "75bc4860",
   "metadata": {},
   "outputs": [
    {
     "data": {
      "text/plain": [
       "bool"
      ]
     },
     "execution_count": 8,
     "metadata": {},
     "output_type": "execute_result"
    }
   ],
   "source": [
    "d=True\n",
    "type(d)"
   ]
  },
  {
   "cell_type": "markdown",
   "id": "1c10f136",
   "metadata": {},
   "source": [
    "# LIST"
   ]
  },
  {
   "cell_type": "code",
   "execution_count": 25,
   "id": "4692f0e6",
   "metadata": {},
   "outputs": [
    {
     "data": {
      "text/plain": [
       "list"
      ]
     },
     "execution_count": 25,
     "metadata": {},
     "output_type": "execute_result"
    }
   ],
   "source": [
    "A = [\"DHIV\",3,3.6,True,[\"dd\"]]\n",
    "type(A)"
   ]
  },
  {
   "cell_type": "markdown",
   "id": "f41a28b0",
   "metadata": {},
   "source": [
    "# TUPLE"
   ]
  },
  {
   "cell_type": "code",
   "execution_count": 20,
   "id": "933715c9",
   "metadata": {},
   "outputs": [
    {
     "data": {
      "text/plain": [
       "tuple"
      ]
     },
     "execution_count": 20,
     "metadata": {},
     "output_type": "execute_result"
    }
   ],
   "source": [
    "z=(\"sadhu\" ,\"nivi\")\n",
    "type(z)"
   ]
  },
  {
   "cell_type": "markdown",
   "id": "98880970",
   "metadata": {},
   "source": [
    "# SET"
   ]
  },
  {
   "cell_type": "code",
   "execution_count": 22,
   "id": "8cf9928f",
   "metadata": {},
   "outputs": [
    {
     "data": {
      "text/plain": [
       "set"
      ]
     },
     "execution_count": 22,
     "metadata": {},
     "output_type": "execute_result"
    }
   ],
   "source": [
    "z={\"sadhu\" ,\"nivi\"}\n",
    "type(z)"
   ]
  },
  {
   "cell_type": "markdown",
   "id": "4adc7500",
   "metadata": {},
   "source": [
    "# DICTIONARY"
   ]
  },
  {
   "cell_type": "code",
   "execution_count": 23,
   "id": "743bc245",
   "metadata": {},
   "outputs": [
    {
     "data": {
      "text/plain": [
       "dict"
      ]
     },
     "execution_count": 23,
     "metadata": {},
     "output_type": "execute_result"
    }
   ],
   "source": [
    "DD = {1:\"DHIVI\"}\n",
    "type(DD)"
   ]
  },
  {
   "cell_type": "markdown",
   "id": "89fa06ac",
   "metadata": {},
   "source": [
    "# To find a id for variable name ,we use id()"
   ]
  },
  {
   "cell_type": "code",
   "execution_count": 10,
   "id": "b8c2bc7c",
   "metadata": {},
   "outputs": [
    {
     "data": {
      "text/plain": [
       "1755792967920"
      ]
     },
     "execution_count": 10,
     "metadata": {},
     "output_type": "execute_result"
    }
   ],
   "source": [
    "id(a)"
   ]
  },
  {
   "cell_type": "markdown",
   "id": "47d269d8",
   "metadata": {},
   "source": [
    "# To find a length of word , we use len()"
   ]
  },
  {
   "cell_type": "code",
   "execution_count": 24,
   "id": "08077595",
   "metadata": {},
   "outputs": [
    {
     "data": {
      "text/plain": [
       "265"
      ]
     },
     "execution_count": 24,
     "metadata": {},
     "output_type": "execute_result"
    }
   ],
   "source": [
    "a=\"2345678909876543234567890987654321238888888888888888888888888888888888888888888888888888888888888866666666666666666666666666666666666666666666644444444444444444444444444444444444444433333333333333333333333333333333333333333222222222222222222222222222222222228456789\"\n",
    "len(a)"
   ]
  },
  {
   "cell_type": "markdown",
   "id": "63d5636c",
   "metadata": {},
   "source": [
    "# TYPE CASTING"
   ]
  },
  {
   "cell_type": "code",
   "execution_count": 27,
   "id": "8eecf229",
   "metadata": {},
   "outputs": [
    {
     "data": {
      "text/plain": [
       "(2.0, '2')"
      ]
     },
     "execution_count": 27,
     "metadata": {},
     "output_type": "execute_result"
    }
   ],
   "source": [
    "a= 2\n",
    "float(2) , str(2)"
   ]
  },
  {
   "cell_type": "code",
   "execution_count": 29,
   "id": "778d9d6c",
   "metadata": {},
   "outputs": [
    {
     "data": {
      "text/plain": [
       "(2, '2.5')"
      ]
     },
     "execution_count": 29,
     "metadata": {},
     "output_type": "execute_result"
    }
   ],
   "source": [
    "B = 2.5\n",
    "int(B),str(B)"
   ]
  },
  {
   "cell_type": "code",
   "execution_count": 33,
   "id": "6c3d5328",
   "metadata": {},
   "outputs": [
    {
     "data": {
      "text/plain": [
       "2"
      ]
     },
     "execution_count": 33,
     "metadata": {},
     "output_type": "execute_result"
    }
   ],
   "source": [
    "C = \"2\"\n",
    "int(C)"
   ]
  },
  {
   "cell_type": "code",
   "execution_count": 4,
   "id": "fd8cef43",
   "metadata": {},
   "outputs": [
    {
     "name": "stdout",
     "output_type": "stream",
     "text": [
      "(10+2j)\n"
     ]
    }
   ],
   "source": [
    "for i in [10+2j]:\n",
    "    print(i)"
   ]
  },
  {
   "cell_type": "code",
   "execution_count": null,
   "id": "9b64e164",
   "metadata": {},
   "outputs": [],
   "source": []
  }
 ],
 "metadata": {
  "kernelspec": {
   "display_name": "Python 3 (ipykernel)",
   "language": "python",
   "name": "python3"
  },
  "language_info": {
   "codemirror_mode": {
    "name": "ipython",
    "version": 3
   },
   "file_extension": ".py",
   "mimetype": "text/x-python",
   "name": "python",
   "nbconvert_exporter": "python",
   "pygments_lexer": "ipython3",
   "version": "3.10.9"
  }
 },
 "nbformat": 4,
 "nbformat_minor": 5
}
