{
 "cells": [
  {
   "cell_type": "markdown",
   "id": "790bb554",
   "metadata": {},
   "source": [
    "# SET"
   ]
  },
  {
   "cell_type": "code",
   "execution_count": 2,
   "id": "a8f36320",
   "metadata": {},
   "outputs": [
    {
     "data": {
      "text/plain": [
       "{2, 3.44, 88, 'DHIVI', True}"
      ]
     },
     "execution_count": 2,
     "metadata": {},
     "output_type": "execute_result"
    }
   ],
   "source": [
    "A = {\"DHIVI\",2,3.44,True,(88)}\n",
    "A"
   ]
  },
  {
   "cell_type": "code",
   "execution_count": 60,
   "id": "b60f811b",
   "metadata": {},
   "outputs": [
    {
     "data": {
      "text/plain": [
       "{1, 2, 3}"
      ]
     },
     "execution_count": 60,
     "metadata": {},
     "output_type": "execute_result"
    }
   ],
   "source": [
    "DL = {1,1,1,1,2,2,2,3,3,3}\n",
    "DL"
   ]
  },
  {
   "cell_type": "markdown",
   "id": "a9702908",
   "metadata": {},
   "source": [
    "# CLEAR"
   ]
  },
  {
   "cell_type": "code",
   "execution_count": 3,
   "id": "bf61bd59",
   "metadata": {},
   "outputs": [
    {
     "data": {
      "text/plain": [
       "set()"
      ]
     },
     "execution_count": 3,
     "metadata": {},
     "output_type": "execute_result"
    }
   ],
   "source": [
    "A.clear()\n",
    "A"
   ]
  },
  {
   "cell_type": "markdown",
   "id": "87560fba",
   "metadata": {},
   "source": [
    "# COPY"
   ]
  },
  {
   "cell_type": "code",
   "execution_count": 4,
   "id": "db24ff02",
   "metadata": {},
   "outputs": [
    {
     "data": {
      "text/plain": [
       "{'chennai', 'coimbatore', 'erode', 'madhurai', 'ooty', 'trichy'}"
      ]
     },
     "execution_count": 4,
     "metadata": {},
     "output_type": "execute_result"
    }
   ],
   "source": [
    "S = {\"trichy\",\"chennai\",\"madhurai\",\"erode\",\"ooty\",\"coimbatore\"}\n",
    "v =S.copy()\n",
    "v"
   ]
  },
  {
   "cell_type": "markdown",
   "id": "1f730d73",
   "metadata": {},
   "source": [
    "# DIFFERENCE"
   ]
  },
  {
   "cell_type": "code",
   "execution_count": 5,
   "id": "18ebe54a",
   "metadata": {},
   "outputs": [],
   "source": [
    "A = {1,2,3,4,8}\n",
    "B = {1,2,3,4,5,6,7}"
   ]
  },
  {
   "cell_type": "code",
   "execution_count": 6,
   "id": "f21b00b5",
   "metadata": {},
   "outputs": [
    {
     "data": {
      "text/plain": [
       "{8}"
      ]
     },
     "execution_count": 6,
     "metadata": {},
     "output_type": "execute_result"
    }
   ],
   "source": [
    "A.difference(B)"
   ]
  },
  {
   "cell_type": "code",
   "execution_count": 7,
   "id": "37c4420d",
   "metadata": {},
   "outputs": [
    {
     "data": {
      "text/plain": [
       "{5, 6, 7}"
      ]
     },
     "execution_count": 7,
     "metadata": {},
     "output_type": "execute_result"
    }
   ],
   "source": [
    "B.difference(A)"
   ]
  },
  {
   "cell_type": "code",
   "execution_count": 8,
   "id": "4bea93d3",
   "metadata": {},
   "outputs": [
    {
     "name": "stdout",
     "output_type": "stream",
     "text": [
      "{1, 2, 3, 4, 8}\n",
      "{1, 2, 3, 4, 5, 6, 7}\n"
     ]
    }
   ],
   "source": [
    "print(A)\n",
    "print(B)"
   ]
  },
  {
   "cell_type": "code",
   "execution_count": 10,
   "id": "5f3712b9",
   "metadata": {},
   "outputs": [],
   "source": [
    "data = {4,5,8.9,1,2,3,6}\n",
    "science = {4,5,6,8,10}"
   ]
  },
  {
   "cell_type": "code",
   "execution_count": 11,
   "id": "872fc155",
   "metadata": {},
   "outputs": [
    {
     "data": {
      "text/plain": [
       "{1, 2, 3, 8.9}"
      ]
     },
     "execution_count": 11,
     "metadata": {},
     "output_type": "execute_result"
    }
   ],
   "source": [
    "data.difference(science)"
   ]
  },
  {
   "cell_type": "code",
   "execution_count": 12,
   "id": "e620b039",
   "metadata": {},
   "outputs": [
    {
     "data": {
      "text/plain": [
       "{8, 10}"
      ]
     },
     "execution_count": 12,
     "metadata": {},
     "output_type": "execute_result"
    }
   ],
   "source": [
    "science.difference(data)"
   ]
  },
  {
   "cell_type": "code",
   "execution_count": 13,
   "id": "500671b6",
   "metadata": {},
   "outputs": [
    {
     "name": "stdout",
     "output_type": "stream",
     "text": [
      "{1, 2, 3, 4, 5, 6, 8.9}\n",
      "{4, 5, 6, 8, 10}\n"
     ]
    }
   ],
   "source": [
    "print(data)\n",
    "print(science)"
   ]
  },
  {
   "cell_type": "markdown",
   "id": "b74a8f38",
   "metadata": {},
   "source": [
    "# DIFFERENCE UPDATE"
   ]
  },
  {
   "cell_type": "code",
   "execution_count": 21,
   "id": "352078d7",
   "metadata": {},
   "outputs": [],
   "source": [
    "A = {2,4,5,7,9,8}\n",
    "B = {3,6,8,9,4,2}"
   ]
  },
  {
   "cell_type": "code",
   "execution_count": 24,
   "id": "1ca51884",
   "metadata": {},
   "outputs": [
    {
     "data": {
      "text/plain": [
       "{5, 7}"
      ]
     },
     "execution_count": 24,
     "metadata": {},
     "output_type": "execute_result"
    }
   ],
   "source": [
    "A.difference_update(B)\n",
    "A"
   ]
  },
  {
   "cell_type": "code",
   "execution_count": 26,
   "id": "f55f096e",
   "metadata": {},
   "outputs": [
    {
     "data": {
      "text/plain": [
       "{2, 3, 4, 6, 8, 9}"
      ]
     },
     "execution_count": 26,
     "metadata": {},
     "output_type": "execute_result"
    }
   ],
   "source": [
    "B.difference_update(A)\n",
    "B"
   ]
  },
  {
   "cell_type": "code",
   "execution_count": 27,
   "id": "8e1caeb6",
   "metadata": {},
   "outputs": [
    {
     "data": {
      "text/plain": [
       "{1, 2, 3, 8.9}"
      ]
     },
     "execution_count": 27,
     "metadata": {},
     "output_type": "execute_result"
    }
   ],
   "source": [
    "data.difference_update(science)\n",
    "data"
   ]
  },
  {
   "cell_type": "code",
   "execution_count": 28,
   "id": "15e9439d",
   "metadata": {},
   "outputs": [
    {
     "data": {
      "text/plain": [
       "{4, 5, 6, 8, 10}"
      ]
     },
     "execution_count": 28,
     "metadata": {},
     "output_type": "execute_result"
    }
   ],
   "source": [
    "data.difference_update(science)\n",
    "science"
   ]
  },
  {
   "cell_type": "markdown",
   "id": "307c1803",
   "metadata": {},
   "source": [
    "# DISCARD"
   ]
  },
  {
   "cell_type": "code",
   "execution_count": 29,
   "id": "93531afc",
   "metadata": {},
   "outputs": [
    {
     "data": {
      "text/plain": [
       "{3, 5, 7, 8, 9}"
      ]
     },
     "execution_count": 29,
     "metadata": {},
     "output_type": "execute_result"
    }
   ],
   "source": [
    "computing = {4,5,7,8,9,3}\n",
    "computing.discard(4)\n",
    "computing"
   ]
  },
  {
   "cell_type": "code",
   "execution_count": 30,
   "id": "47bd82c0",
   "metadata": {},
   "outputs": [
    {
     "data": {
      "text/plain": [
       "{'sekar'}"
      ]
     },
     "execution_count": 30,
     "metadata": {},
     "output_type": "execute_result"
    }
   ],
   "source": [
    "computing = {\"dhivi\",\"sekar\"}\n",
    "computing.discard(\"dhivi\")\n",
    "computing"
   ]
  },
  {
   "cell_type": "code",
   "execution_count": 31,
   "id": "22e37200",
   "metadata": {},
   "outputs": [
    {
     "data": {
      "text/plain": [
       "{'botony', 'chemistry', 'english', 'physics', 'tamil', 'zoology'}"
      ]
     },
     "execution_count": 31,
     "metadata": {},
     "output_type": "execute_result"
    }
   ],
   "source": [
    "H = {\"tamil\",\"english\",\"maths\",\"chemistry\",\"botony\",\"physics\",\"zoology\"}\n",
    "H.discard(\"maths\")\n",
    "H"
   ]
  },
  {
   "cell_type": "markdown",
   "id": "c4ab0a0c",
   "metadata": {},
   "source": [
    "# INTERSACTION"
   ]
  },
  {
   "cell_type": "code",
   "execution_count": 32,
   "id": "9a71b713",
   "metadata": {},
   "outputs": [
    {
     "data": {
      "text/plain": [
       "{4, 5, 6, 7}"
      ]
     },
     "execution_count": 32,
     "metadata": {},
     "output_type": "execute_result"
    }
   ],
   "source": [
    "A = {1,2,3,4,5,6,7,8}\n",
    "B = {4,5,6,7}\n",
    "A.intersection(B)"
   ]
  },
  {
   "cell_type": "code",
   "execution_count": 33,
   "id": "9e643c19",
   "metadata": {},
   "outputs": [
    {
     "data": {
      "text/plain": [
       "{1, 2, 3, 4, 5, 6, 7, 8}"
      ]
     },
     "execution_count": 33,
     "metadata": {},
     "output_type": "execute_result"
    }
   ],
   "source": [
    "A"
   ]
  },
  {
   "cell_type": "code",
   "execution_count": 34,
   "id": "5de7a89a",
   "metadata": {},
   "outputs": [
    {
     "data": {
      "text/plain": [
       "{'english', 'maths', 'tamil'}"
      ]
     },
     "execution_count": 34,
     "metadata": {},
     "output_type": "execute_result"
    }
   ],
   "source": [
    "H = {\"tamil\",\"english\",\"maths\",\"chemistry\",\"botony\",\"physics\",\"zoology\"}\n",
    "G = {\"tamil\",\"english\",\"maths\",\"AI\",\"ML\"}\n",
    "H.intersection(G)"
   ]
  },
  {
   "cell_type": "code",
   "execution_count": 35,
   "id": "badc3dbb",
   "metadata": {},
   "outputs": [
    {
     "data": {
      "text/plain": [
       "{'botony', 'chemistry', 'english', 'maths', 'physics', 'tamil', 'zoology'}"
      ]
     },
     "execution_count": 35,
     "metadata": {},
     "output_type": "execute_result"
    }
   ],
   "source": [
    "H"
   ]
  },
  {
   "cell_type": "markdown",
   "id": "764d0d1a",
   "metadata": {},
   "source": [
    "# INTERSACTION UPDATE"
   ]
  },
  {
   "cell_type": "code",
   "execution_count": 36,
   "id": "e372dc0b",
   "metadata": {},
   "outputs": [
    {
     "data": {
      "text/plain": [
       "{'english', 'maths', 'tamil'}"
      ]
     },
     "execution_count": 36,
     "metadata": {},
     "output_type": "execute_result"
    }
   ],
   "source": [
    "H = {\"tamil\",\"english\",\"maths\",\"chemistry\",\"botony\",\"physics\",\"zoology\"}\n",
    "G = {\"tamil\",\"english\",\"maths\",\"AI\",\"ML\"}\n",
    "H.intersection_update(G)\n",
    "H"
   ]
  },
  {
   "cell_type": "code",
   "execution_count": 37,
   "id": "34e3ba77",
   "metadata": {},
   "outputs": [
    {
     "data": {
      "text/plain": [
       "{1, 2, 4, 7}"
      ]
     },
     "execution_count": 37,
     "metadata": {},
     "output_type": "execute_result"
    }
   ],
   "source": [
    "A = {1,2,3,4,5,6,7}\n",
    "B = {1,2,4,7,8,9}\n",
    "A.intersection_update(B)\n",
    "A"
   ]
  },
  {
   "cell_type": "markdown",
   "id": "26d9777d",
   "metadata": {},
   "source": [
    "# ISDISJOINT"
   ]
  },
  {
   "cell_type": "code",
   "execution_count": 39,
   "id": "2c103a9a",
   "metadata": {},
   "outputs": [
    {
     "data": {
      "text/plain": [
       "True"
      ]
     },
     "execution_count": 39,
     "metadata": {},
     "output_type": "execute_result"
    }
   ],
   "source": [
    "M = {1,2,3}\n",
    "N = {4,5,6}\n",
    "N.isdisjoint(M)"
   ]
  },
  {
   "cell_type": "code",
   "execution_count": 40,
   "id": "e12136f5",
   "metadata": {},
   "outputs": [
    {
     "data": {
      "text/plain": [
       "False"
      ]
     },
     "execution_count": 40,
     "metadata": {},
     "output_type": "execute_result"
    }
   ],
   "source": [
    "M = {1,2,3}\n",
    "N = {1,2,3}\n",
    "N.isdisjoint(M)"
   ]
  },
  {
   "cell_type": "markdown",
   "id": "ebe98ff0",
   "metadata": {},
   "source": [
    "# ISSUBSET"
   ]
  },
  {
   "cell_type": "code",
   "execution_count": 44,
   "id": "5634150b",
   "metadata": {},
   "outputs": [
    {
     "data": {
      "text/plain": [
       "False"
      ]
     },
     "execution_count": 44,
     "metadata": {},
     "output_type": "execute_result"
    }
   ],
   "source": [
    "M = {1,2,3}\n",
    "N = {4,5,6}\n",
    "M.issubset(N)"
   ]
  },
  {
   "cell_type": "code",
   "execution_count": 45,
   "id": "bbe6f280",
   "metadata": {},
   "outputs": [
    {
     "data": {
      "text/plain": [
       "True"
      ]
     },
     "execution_count": 45,
     "metadata": {},
     "output_type": "execute_result"
    }
   ],
   "source": [
    "M = {1,2,3}\n",
    "N = {1,2,3,4}\n",
    "M.issubset(N)"
   ]
  },
  {
   "cell_type": "markdown",
   "id": "532d3d77",
   "metadata": {},
   "source": [
    "# issuperset"
   ]
  },
  {
   "cell_type": "code",
   "execution_count": 46,
   "id": "c2581373",
   "metadata": {},
   "outputs": [
    {
     "data": {
      "text/plain": [
       "True"
      ]
     },
     "execution_count": 46,
     "metadata": {},
     "output_type": "execute_result"
    }
   ],
   "source": [
    "M = {1,2,3,4,5}\n",
    "N = {1,2,3,4}\n",
    "M.issuperset(N)"
   ]
  },
  {
   "cell_type": "code",
   "execution_count": 47,
   "id": "61f608d6",
   "metadata": {},
   "outputs": [
    {
     "data": {
      "text/plain": [
       "False"
      ]
     },
     "execution_count": 47,
     "metadata": {},
     "output_type": "execute_result"
    }
   ],
   "source": [
    "A = {1,2,3,4}\n",
    "B = {1,2,3,5}\n",
    "A.issuperset(B)"
   ]
  },
  {
   "cell_type": "code",
   "execution_count": 48,
   "id": "33c36e62",
   "metadata": {},
   "outputs": [
    {
     "data": {
      "text/plain": [
       "False"
      ]
     },
     "execution_count": 48,
     "metadata": {},
     "output_type": "execute_result"
    }
   ],
   "source": [
    "A = {1,2,3,4}\n",
    "B = {1,2,3,5}\n",
    "B.issuperset(A)"
   ]
  },
  {
   "cell_type": "markdown",
   "id": "f128ba01",
   "metadata": {},
   "source": [
    "# POP"
   ]
  },
  {
   "cell_type": "code",
   "execution_count": 49,
   "id": "a84ab131",
   "metadata": {},
   "outputs": [
    {
     "data": {
      "text/plain": [
       "'dhivi'"
      ]
     },
     "execution_count": 49,
     "metadata": {},
     "output_type": "execute_result"
    }
   ],
   "source": [
    "v = {\"dhivi\",\"sekar\"}\n",
    "v.pop()"
   ]
  },
  {
   "cell_type": "markdown",
   "id": "b5797ffb",
   "metadata": {},
   "source": [
    "# REMOVE"
   ]
  },
  {
   "cell_type": "code",
   "execution_count": 50,
   "id": "99faf0b0",
   "metadata": {},
   "outputs": [
    {
     "data": {
      "text/plain": [
       "{'sekar'}"
      ]
     },
     "execution_count": 50,
     "metadata": {},
     "output_type": "execute_result"
    }
   ],
   "source": [
    "v = {\"dhivi\",\"sekar\"}\n",
    "v.remove(\"dhivi\")\n",
    "v"
   ]
  },
  {
   "cell_type": "code",
   "execution_count": 51,
   "id": "8b7a1d12",
   "metadata": {},
   "outputs": [
    {
     "data": {
      "text/plain": [
       "{'sekar'}"
      ]
     },
     "execution_count": 51,
     "metadata": {},
     "output_type": "execute_result"
    }
   ],
   "source": [
    "v = {\"dhivi\",\"sekar\"}\n",
    "v.remove(\"dhivi\")\n",
    "v"
   ]
  },
  {
   "cell_type": "markdown",
   "id": "a4f519a6",
   "metadata": {},
   "source": [
    "# SYMMETRIC DIFFERENCE"
   ]
  },
  {
   "cell_type": "code",
   "execution_count": 52,
   "id": "0701fb2a",
   "metadata": {},
   "outputs": [
    {
     "data": {
      "text/plain": [
       "{'CPU', 'GPU', 'cat', 'keyboard', 'pendrive'}"
      ]
     },
     "execution_count": 52,
     "metadata": {},
     "output_type": "execute_result"
    }
   ],
   "source": [
    "D = {\"lap\",\"mouse\",\"keyboard\",\"pendrive\",\"CPU\",\"GPU\"}\n",
    "F = {\"lap\",\"mouse\",\"cat\"}\n",
    "D.symmetric_difference(F)"
   ]
  },
  {
   "cell_type": "code",
   "execution_count": 53,
   "id": "05ba5e19",
   "metadata": {},
   "outputs": [
    {
     "data": {
      "text/plain": [
       "{'aa', 'bb', 'rr', 'vv'}"
      ]
     },
     "execution_count": 53,
     "metadata": {},
     "output_type": "execute_result"
    }
   ],
   "source": [
    "jio = {\"dd\",\"bb\",\"ss\",\"aa\"}\n",
    "call = {\"dd\",\"ss\",\"vv\",\"rr\"}\n",
    "jio.symmetric_difference(call)"
   ]
  },
  {
   "cell_type": "markdown",
   "id": "e2454abe",
   "metadata": {},
   "source": [
    "# SYMMETRIC DIFFERENCE UPDATE"
   ]
  },
  {
   "cell_type": "code",
   "execution_count": 55,
   "id": "be7b9a2b",
   "metadata": {},
   "outputs": [
    {
     "data": {
      "text/plain": [
       "{'CPU', 'GPU', 'cat', 'keyboard', 'pendrive'}"
      ]
     },
     "execution_count": 55,
     "metadata": {},
     "output_type": "execute_result"
    }
   ],
   "source": [
    "D = {\"lap\",\"mouse\",\"keyboard\",\"pendrive\",\"CPU\",\"GPU\"}\n",
    "F = {\"lap\",\"mouse\",\"cat\"}\n",
    "D.symmetric_difference_update(F)\n",
    "D"
   ]
  },
  {
   "cell_type": "code",
   "execution_count": 56,
   "id": "c46c3d7e",
   "metadata": {},
   "outputs": [
    {
     "data": {
      "text/plain": [
       "{'aa', 'bb', 'rr', 'vv'}"
      ]
     },
     "execution_count": 56,
     "metadata": {},
     "output_type": "execute_result"
    }
   ],
   "source": [
    "jio = {\"dd\",\"bb\",\"ss\",\"aa\"}\n",
    "call = {\"dd\",\"ss\",\"vv\",\"rr\"}\n",
    "jio.symmetric_difference_update(call)\n",
    "jio"
   ]
  },
  {
   "cell_type": "markdown",
   "id": "9c294b08",
   "metadata": {},
   "source": [
    "# UNION"
   ]
  },
  {
   "cell_type": "code",
   "execution_count": 57,
   "id": "4ffc3532",
   "metadata": {},
   "outputs": [
    {
     "data": {
      "text/plain": [
       "{'aa', 'bb', 'dd', 'rr', 'ss', 'vv'}"
      ]
     },
     "execution_count": 57,
     "metadata": {},
     "output_type": "execute_result"
    }
   ],
   "source": [
    "jio = {\"dd\",\"bb\",\"ss\",\"aa\"}\n",
    "call = {\"dd\",\"ss\",\"vv\",\"rr\"}\n",
    "jio.union(call)"
   ]
  },
  {
   "cell_type": "markdown",
   "id": "ccc3bf4e",
   "metadata": {},
   "source": [
    "# UPDATE"
   ]
  },
  {
   "cell_type": "code",
   "execution_count": 58,
   "id": "b3735903",
   "metadata": {},
   "outputs": [
    {
     "data": {
      "text/plain": [
       "{'CPU', 'GPU', 'cat', 'keyboard', 'lap', 'mouse', 'pendrive'}"
      ]
     },
     "execution_count": 58,
     "metadata": {},
     "output_type": "execute_result"
    }
   ],
   "source": [
    "D = {\"lap\",\"mouse\",\"keyboard\",\"pendrive\",\"CPU\",\"GPU\"}\n",
    "F = {\"lap\",\"mouse\",\"cat\"}\n",
    "D.update(F)\n",
    "D"
   ]
  }
 ],
 "metadata": {
  "kernelspec": {
   "display_name": "Python 3 (ipykernel)",
   "language": "python",
   "name": "python3"
  },
  "language_info": {
   "codemirror_mode": {
    "name": "ipython",
    "version": 3
   },
   "file_extension": ".py",
   "mimetype": "text/x-python",
   "name": "python",
   "nbconvert_exporter": "python",
   "pygments_lexer": "ipython3",
   "version": "3.10.9"
  }
 },
 "nbformat": 4,
 "nbformat_minor": 5
}
