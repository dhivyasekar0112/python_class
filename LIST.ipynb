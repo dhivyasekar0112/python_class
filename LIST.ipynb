{
 "cells": [
  {
   "cell_type": "markdown",
   "id": "41b6429b",
   "metadata": {},
   "source": [
    "# LIST\n",
    "\n"
   ]
  },
  {
   "cell_type": "markdown",
   "id": "4bbe706d",
   "metadata": {},
   "source": [
    "# Append"
   ]
  },
  {
   "cell_type": "code",
   "execution_count": 1,
   "id": "7be317c6",
   "metadata": {},
   "outputs": [],
   "source": [
    "k=[\"dhivya\",\"sekar\",[\"OKAY\"]]"
   ]
  },
  {
   "cell_type": "code",
   "execution_count": 2,
   "id": "059c0750",
   "metadata": {},
   "outputs": [
    {
     "data": {
      "text/plain": [
       "['dhivya', 'sekar', ['OKAY'], 2]"
      ]
     },
     "execution_count": 2,
     "metadata": {},
     "output_type": "execute_result"
    }
   ],
   "source": [
    "k.append(2)\n",
    "k"
   ]
  },
  {
   "cell_type": "code",
   "execution_count": 3,
   "id": "5577ad94",
   "metadata": {},
   "outputs": [
    {
     "data": {
      "text/plain": [
       "['dhivya', 'sekar', ['OKAY'], 2, 2.4]"
      ]
     },
     "execution_count": 3,
     "metadata": {},
     "output_type": "execute_result"
    }
   ],
   "source": [
    "k.append(2.4)\n",
    "k"
   ]
  },
  {
   "cell_type": "code",
   "execution_count": 4,
   "id": "278ba57c",
   "metadata": {},
   "outputs": [
    {
     "data": {
      "text/plain": [
       "['dhivya', 'sekar', ['OKAY'], 2, 2.4, (3+2j)]"
      ]
     },
     "execution_count": 4,
     "metadata": {},
     "output_type": "execute_result"
    }
   ],
   "source": [
    "k.append(3+2j)\n",
    "k"
   ]
  },
  {
   "cell_type": "code",
   "execution_count": 5,
   "id": "dace1701",
   "metadata": {},
   "outputs": [
    {
     "data": {
      "text/plain": [
       "['dhivya', 'sekar', ['OKAY'], 2, 2.4, (3+2j), 'chokie']"
      ]
     },
     "execution_count": 5,
     "metadata": {},
     "output_type": "execute_result"
    }
   ],
   "source": [
    "k.append('chokie')\n",
    "k"
   ]
  },
  {
   "cell_type": "code",
   "execution_count": 6,
   "id": "86611de1",
   "metadata": {},
   "outputs": [
    {
     "data": {
      "text/plain": [
       "['dhivya', 'sekar', ['OKAY'], 2, 2.4, (3+2j), 'chokie', True]"
      ]
     },
     "execution_count": 6,
     "metadata": {},
     "output_type": "execute_result"
    }
   ],
   "source": [
    "k.append(True)\n",
    "k"
   ]
  },
  {
   "cell_type": "code",
   "execution_count": 7,
   "id": "b2b8e2f0",
   "metadata": {},
   "outputs": [
    {
     "data": {
      "text/plain": [
       "['dhivya', 'sekar', ['OKAY'], 2, 2.4, (3+2j), 'chokie', True, 'fruit']"
      ]
     },
     "execution_count": 7,
     "metadata": {},
     "output_type": "execute_result"
    }
   ],
   "source": [
    "k.append(\"fruit\")\n",
    "k"
   ]
  },
  {
   "cell_type": "code",
   "execution_count": 8,
   "id": "97953388",
   "metadata": {},
   "outputs": [
    {
     "data": {
      "text/plain": [
       "['dhivya', 'sekar', ['OKAY'], 2, 2.4, (3+2j), 'chokie', True, 'fruit', 41]"
      ]
     },
     "execution_count": 8,
     "metadata": {},
     "output_type": "execute_result"
    }
   ],
   "source": [
    "k.append(41)\n",
    "k"
   ]
  },
  {
   "cell_type": "code",
   "execution_count": 9,
   "id": "0ff3a8f0",
   "metadata": {},
   "outputs": [
    {
     "data": {
      "text/plain": [
       "['dhivya',\n",
       " 'sekar',\n",
       " ['OKAY'],\n",
       " 2,\n",
       " 2.4,\n",
       " (3+2j),\n",
       " 'chokie',\n",
       " True,\n",
       " 'fruit',\n",
       " 41,\n",
       " False]"
      ]
     },
     "execution_count": 9,
     "metadata": {},
     "output_type": "execute_result"
    }
   ],
   "source": [
    "k.append(False)\n",
    "k"
   ]
  },
  {
   "cell_type": "code",
   "execution_count": 10,
   "id": "65844c91",
   "metadata": {},
   "outputs": [
    {
     "data": {
      "text/plain": [
       "['dhivya',\n",
       " 'sekar',\n",
       " ['OKAY'],\n",
       " 2,\n",
       " 2.4,\n",
       " (3+2j),\n",
       " 'chokie',\n",
       " True,\n",
       " 'fruit',\n",
       " 41,\n",
       " False,\n",
       " 3.3333333333333335]"
      ]
     },
     "execution_count": 10,
     "metadata": {},
     "output_type": "execute_result"
    }
   ],
   "source": [
    "k.append(3.3333333333333333333333)\n",
    "k"
   ]
  },
  {
   "cell_type": "code",
   "execution_count": 11,
   "id": "a639e077",
   "metadata": {},
   "outputs": [
    {
     "data": {
      "text/plain": [
       "['dhivya',\n",
       " 'sekar',\n",
       " ['OKAY'],\n",
       " 2,\n",
       " 2.4,\n",
       " (3+2j),\n",
       " 'chokie',\n",
       " True,\n",
       " 'fruit',\n",
       " 41,\n",
       " False,\n",
       " 3.3333333333333335,\n",
       " 'datascience']"
      ]
     },
     "execution_count": 11,
     "metadata": {},
     "output_type": "execute_result"
    }
   ],
   "source": [
    "k.append(\"datascience\")\n",
    "k"
   ]
  },
  {
   "cell_type": "code",
   "execution_count": 12,
   "id": "f67943b3",
   "metadata": {},
   "outputs": [
    {
     "data": {
      "text/plain": [
       "['dhivya',\n",
       " 'sekar',\n",
       " ['OKAY'],\n",
       " 2,\n",
       " 2.4,\n",
       " (3+2j),\n",
       " 'chokie',\n",
       " True,\n",
       " 'fruit',\n",
       " 41,\n",
       " False,\n",
       " 3.3333333333333335,\n",
       " 'datascience',\n",
       " 'cat']"
      ]
     },
     "execution_count": 12,
     "metadata": {},
     "output_type": "execute_result"
    }
   ],
   "source": [
    "k.append(\"cat\")\n",
    "k"
   ]
  },
  {
   "cell_type": "code",
   "execution_count": 13,
   "id": "342b456d",
   "metadata": {},
   "outputs": [
    {
     "name": "stdout",
     "output_type": "stream",
     "text": [
      "14\n",
      "2\n",
      "[2, 2.4, (3+2j)]\n"
     ]
    }
   ],
   "source": [
    "print(len(k))\n",
    "print(k[3])\n",
    "print(k[3:6])"
   ]
  },
  {
   "cell_type": "markdown",
   "id": "1e3f4563",
   "metadata": {},
   "source": [
    "# CLEAR"
   ]
  },
  {
   "cell_type": "code",
   "execution_count": 14,
   "id": "7fd6f8e3",
   "metadata": {},
   "outputs": [
    {
     "data": {
      "text/plain": [
       "[]"
      ]
     },
     "execution_count": 14,
     "metadata": {},
     "output_type": "execute_result"
    }
   ],
   "source": [
    "k.clear()\n",
    "k"
   ]
  },
  {
   "cell_type": "code",
   "execution_count": 15,
   "id": "d0daa368",
   "metadata": {},
   "outputs": [
    {
     "data": {
      "text/plain": [
       "[]"
      ]
     },
     "execution_count": 15,
     "metadata": {},
     "output_type": "execute_result"
    }
   ],
   "source": [
    "A = [\"orange\",\"apple\",\"grapes\",\"mango\",\"pineapple\",\"lemon\",[\"DL\"]]\n",
    "A.clear()\n",
    "A"
   ]
  },
  {
   "cell_type": "code",
   "execution_count": 16,
   "id": "d3af57da",
   "metadata": {},
   "outputs": [
    {
     "data": {
      "text/plain": [
       "[]"
      ]
     },
     "execution_count": 16,
     "metadata": {},
     "output_type": "execute_result"
    }
   ],
   "source": [
    "B = [\"lion\",\"tiger\",\"dog\",\"cat\",\"bird\",\"monkey\"]\n",
    "B.clear()\n",
    "B"
   ]
  },
  {
   "cell_type": "code",
   "execution_count": 17,
   "id": "bfe4ad47",
   "metadata": {},
   "outputs": [
    {
     "data": {
      "text/plain": [
       "[]"
      ]
     },
     "execution_count": 17,
     "metadata": {},
     "output_type": "execute_result"
    }
   ],
   "source": [
    "C = [\"pen\",\"scale\",\"eraser\",\"sharpner\",\"pencil\",\"pen\"]\n",
    "C.clear()\n",
    "C"
   ]
  },
  {
   "cell_type": "code",
   "execution_count": 18,
   "id": "568fc4da",
   "metadata": {},
   "outputs": [
    {
     "data": {
      "text/plain": [
       "[]"
      ]
     },
     "execution_count": 18,
     "metadata": {},
     "output_type": "execute_result"
    }
   ],
   "source": [
    "D = [\"lap\",\"mouse\",\"keyboard\",\"pendrive\",\"CPU\",\"GPU\"]\n",
    "D.clear()\n",
    "D"
   ]
  },
  {
   "cell_type": "code",
   "execution_count": 19,
   "id": "e95439f3",
   "metadata": {},
   "outputs": [
    {
     "data": {
      "text/plain": [
       "[]"
      ]
     },
     "execution_count": 19,
     "metadata": {},
     "output_type": "execute_result"
    }
   ],
   "source": [
    "E = [\"AI\",\"ML\",\"DL\",\"DS\",\"AC\",\"DEE\"]\n",
    "E.clear()\n",
    "E"
   ]
  },
  {
   "cell_type": "code",
   "execution_count": 20,
   "id": "d3cc0f0c",
   "metadata": {},
   "outputs": [
    {
     "data": {
      "text/plain": [
       "[]"
      ]
     },
     "execution_count": 20,
     "metadata": {},
     "output_type": "execute_result"
    }
   ],
   "source": [
    "F = [\"indhu\",\"renu\",\"meenu\",\"uma\",\"dhilipan\",\"siva\"]\n",
    "F.clear()\n",
    "F"
   ]
  },
  {
   "cell_type": "code",
   "execution_count": 21,
   "id": "1d7873fb",
   "metadata": {},
   "outputs": [
    {
     "data": {
      "text/plain": [
       "[]"
      ]
     },
     "execution_count": 21,
     "metadata": {},
     "output_type": "execute_result"
    }
   ],
   "source": [
    "G=[\"DHIVI\"]\n",
    "G.clear()\n",
    "G"
   ]
  },
  {
   "cell_type": "code",
   "execution_count": 22,
   "id": "c7f19c99",
   "metadata": {},
   "outputs": [
    {
     "data": {
      "text/plain": [
       "[]"
      ]
     },
     "execution_count": 22,
     "metadata": {},
     "output_type": "execute_result"
    }
   ],
   "source": [
    "H = [\"string\",\"integer\",\"boolean\",\"complex\",\"list\",\"tuple\",\"set\"]\n",
    "H.clear()\n",
    "H"
   ]
  },
  {
   "cell_type": "code",
   "execution_count": 23,
   "id": "89c73601",
   "metadata": {
    "scrolled": true
   },
   "outputs": [
    {
     "data": {
      "text/plain": [
       "[]"
      ]
     },
     "execution_count": 23,
     "metadata": {},
     "output_type": "execute_result"
    }
   ],
   "source": [
    "S = [\"trichy\",\"chennai\",\"madhurai\",\"erode\",\"ooty\",\"coimbatore\"]\n",
    "S.clear()\n",
    "S"
   ]
  },
  {
   "cell_type": "markdown",
   "id": "fbfa48ba",
   "metadata": {},
   "source": [
    "# COPY"
   ]
  },
  {
   "cell_type": "code",
   "execution_count": 24,
   "id": "789e9d9c",
   "metadata": {},
   "outputs": [
    {
     "data": {
      "text/plain": [
       "['DHIVI', 'JAYA', ['3+3j'], 3, 4.5, True, False, {33}]"
      ]
     },
     "execution_count": 24,
     "metadata": {},
     "output_type": "execute_result"
    }
   ],
   "source": [
    "A = [\"DHIVI\",\"JAYA\",[\"3+3j\"],3,4.5,True,False,{33}]\n",
    "B = A.copy()\n",
    "B"
   ]
  },
  {
   "cell_type": "code",
   "execution_count": 25,
   "id": "ebf88f68",
   "metadata": {},
   "outputs": [
    {
     "data": {
      "text/plain": [
       "['DHIVI', 'JAYA', ['3+3j'], 3, 4.5, True, False, {33}]"
      ]
     },
     "execution_count": 25,
     "metadata": {},
     "output_type": "execute_result"
    }
   ],
   "source": [
    "C=B.copy()\n",
    "C"
   ]
  },
  {
   "cell_type": "code",
   "execution_count": 26,
   "id": "b955b4d7",
   "metadata": {},
   "outputs": [
    {
     "data": {
      "text/plain": [
       "['DHIVI', 'JAYA', ['3+3j'], 3, 4.5, True, False, {33}]"
      ]
     },
     "execution_count": 26,
     "metadata": {},
     "output_type": "execute_result"
    }
   ],
   "source": [
    "D=list(C)\n",
    "D"
   ]
  },
  {
   "cell_type": "code",
   "execution_count": 27,
   "id": "f2399533",
   "metadata": {},
   "outputs": [
    {
     "data": {
      "text/plain": [
       "['DHIVI', 'JAYA', ['3+3j'], 3, 4.5, True, False, {33}]"
      ]
     },
     "execution_count": 27,
     "metadata": {},
     "output_type": "execute_result"
    }
   ],
   "source": [
    "E=D.copy()\n",
    "E"
   ]
  },
  {
   "cell_type": "code",
   "execution_count": 28,
   "id": "930af814",
   "metadata": {},
   "outputs": [
    {
     "data": {
      "text/plain": [
       "['DHIVI', 'JAYA', ['3+3j'], 3, 4.5, True, False, {33}]"
      ]
     },
     "execution_count": 28,
     "metadata": {},
     "output_type": "execute_result"
    }
   ],
   "source": [
    "F=E.copy()\n",
    "F"
   ]
  },
  {
   "cell_type": "code",
   "execution_count": 29,
   "id": "3afcb526",
   "metadata": {},
   "outputs": [
    {
     "data": {
      "text/plain": [
       "['DHIVI', 'JAYA', ['3+3j'], 3, 4.5, True, False, {33}]"
      ]
     },
     "execution_count": 29,
     "metadata": {},
     "output_type": "execute_result"
    }
   ],
   "source": [
    "G= F.copy()\n",
    "G"
   ]
  },
  {
   "cell_type": "code",
   "execution_count": 30,
   "id": "0a20e5e9",
   "metadata": {},
   "outputs": [
    {
     "data": {
      "text/plain": [
       "['DHIVI', 'JAYA', ['3+3j'], 3, 4.5, True, False, {33}]"
      ]
     },
     "execution_count": 30,
     "metadata": {},
     "output_type": "execute_result"
    }
   ],
   "source": [
    "H=list(G)\n",
    "G"
   ]
  },
  {
   "cell_type": "code",
   "execution_count": 31,
   "id": "b2ec003c",
   "metadata": {},
   "outputs": [
    {
     "data": {
      "text/plain": [
       "['DHIVI', 'JAYA', ['3+3j'], 3, 4.5, True, False, {33}]"
      ]
     },
     "execution_count": 31,
     "metadata": {},
     "output_type": "execute_result"
    }
   ],
   "source": [
    "I = list(G)\n",
    "I"
   ]
  },
  {
   "cell_type": "code",
   "execution_count": 32,
   "id": "e45f1fc1",
   "metadata": {},
   "outputs": [
    {
     "data": {
      "text/plain": [
       "['DHIVI', 'JAYA', ['3+3j'], 3, 4.5, True, False, {33}]"
      ]
     },
     "execution_count": 32,
     "metadata": {},
     "output_type": "execute_result"
    }
   ],
   "source": [
    "J = I.copy()\n",
    "J"
   ]
  },
  {
   "cell_type": "code",
   "execution_count": 33,
   "id": "e24881e7",
   "metadata": {},
   "outputs": [
    {
     "data": {
      "text/plain": [
       "['DHIVI', 'JAYA', ['3+3j'], 3, 4.5, True, False, {33}]"
      ]
     },
     "execution_count": 33,
     "metadata": {},
     "output_type": "execute_result"
    }
   ],
   "source": [
    "K = J.copy()\n",
    "K"
   ]
  },
  {
   "cell_type": "markdown",
   "id": "ebea8bf6",
   "metadata": {},
   "source": [
    "# COUNT"
   ]
  },
  {
   "cell_type": "code",
   "execution_count": 34,
   "id": "8b7ef7e6",
   "metadata": {},
   "outputs": [
    {
     "data": {
      "text/plain": [
       "12"
      ]
     },
     "execution_count": 34,
     "metadata": {},
     "output_type": "execute_result"
    }
   ],
   "source": [
    "O = [\"DHIVYA\",\"SEKAR\",\"0112\",\"DECEMBER\",\"FAM\",\"DHIVI\",\"DHIVI\",\"SEKAR\",\"DHIVI\",\"DHIVI\",\"DHIVI\",\"SEKAR\",\"DHIVI\",\"DHIVI\",\"DHIVI\",\"SEKAR\",\"DHIVI\",\"DHIVI\",\"DHIVI\",\"SEKAR\",\"DHIVI\"]\n",
    "O.count(\"DHIVI\")"
   ]
  },
  {
   "cell_type": "code",
   "execution_count": 35,
   "id": "c7cfd3ec",
   "metadata": {},
   "outputs": [
    {
     "data": {
      "text/plain": [
       "1"
      ]
     },
     "execution_count": 35,
     "metadata": {},
     "output_type": "execute_result"
    }
   ],
   "source": [
    "O = [\"DHIVYA\",\"SEKAR\",\"0112\",\"DECEMBER\",\"FAM\",\"DHIVI\",\"DHIVI\",\"SEKAR\",\"DHIVI\",\"DHIVI\",\"DHIVI\",\"SEKAR\",\"DHIVI\",\"DHIVI\",\"DHIVI\",\"SEKAR\",\"DHIVI\",\"DHIVI\",\"DHIVI\",\"SEKAR\",\"DHIVI\",2]\n",
    "O.count(2)"
   ]
  },
  {
   "cell_type": "code",
   "execution_count": 36,
   "id": "c8bb05d0",
   "metadata": {},
   "outputs": [
    {
     "data": {
      "text/plain": [
       "1"
      ]
     },
     "execution_count": 36,
     "metadata": {},
     "output_type": "execute_result"
    }
   ],
   "source": [
    "O = [\"DHIVYA\",\"SEKAR\",\"0112\",\"DECEMBER\",\"FAM\",\"DHIVI\",\"DHIVI\",\"SEKAR\",\"DHIVI\",\"DHIVI\",\"DHIVI\",\"SEKAR\",\"DHIVI\",\"DHIVI\",\"DHIVI\",\"SEKAR\",\"DHIVI\",\"DHIVI\",\"DHIVI\",\"SEKAR\",\"DHIVI\",2+3j]\n",
    "O.count(2+3j)"
   ]
  },
  {
   "cell_type": "code",
   "execution_count": 37,
   "id": "e0d1100f",
   "metadata": {},
   "outputs": [
    {
     "data": {
      "text/plain": [
       "1"
      ]
     },
     "execution_count": 37,
     "metadata": {},
     "output_type": "execute_result"
    }
   ],
   "source": [
    "O = [\"DHIVYA\",\"SEKAR\",2+3j,\"DECEMBER\",\"FAM\",\"DHIVI\",\"DHIVI\",\"SEKAR\",\"DHIVI\",\"DHIVI\",\"DHIVI\",\"SEKAR\",\"DHIVI\",\"DHIVI\",\"DHIVI\",\"SEKAR\",\"DHIVI\",\"DHIVI\",\"DHIVI\",\"SEKAR\",\"DHIVI\"]\n",
    "O.count(2+3j)"
   ]
  },
  {
   "cell_type": "code",
   "execution_count": 38,
   "id": "51439140",
   "metadata": {},
   "outputs": [
    {
     "data": {
      "text/plain": [
       "1"
      ]
     },
     "execution_count": 38,
     "metadata": {},
     "output_type": "execute_result"
    }
   ],
   "source": [
    "dhivi = [\"aaaaaaaaaaaaaaaaaaaaaaaaaaaaaaaaaaaaaaAAAAAAAAAAAAAAAAAAAAAAAAAAAAAAAAAAAAAAAAADDDDDDDDDDDDDD\",{22},(2)]\n",
    "dhivi.count((2))"
   ]
  },
  {
   "cell_type": "code",
   "execution_count": 39,
   "id": "64d1b902",
   "metadata": {},
   "outputs": [
    {
     "data": {
      "text/plain": [
       "114"
      ]
     },
     "execution_count": 39,
     "metadata": {},
     "output_type": "execute_result"
    }
   ],
   "source": [
    "_lee = [\"a\",\"B\",\"a\",\"a\",\"a\",\"b\",\"b\",\"b\",\"d\",\"a\",\"a\",\"a\",\"A\",\"a\",\"a\",\"A\",'a'\"a\",\"a\",\"B\",\"a\",\"a\",\"a\",\"b\",\"b\",\"b\",\"d\",\"a\",\"a\",\"a\",\"A\",\"a\",\"a\",\"A\",'a'\"a\",\"a\",\"B\",\"a\",\"a\",\"a\",\"b\",\"b\",\"b\",\"d\",\"a\",\"a\",\"a\",\"A\",\"a\",\"a\",\"A\",'a'\"a\",\"a\",\"B\",\"a\",\"a\",\"a\",\"b\",\"b\",\"b\",\"d\",\"a\",\"a\",\"a\",\"A\",\"a\",\"a\",\"A\",'a'\"a\",\"a\",\"B\",\"a\",\"a\",\"a\",\"b\",\"b\",\"b\",\"d\",\"a\",\"a\",\"a\",\"A\",\"a\",\"a\",\"A\",'a'\"a\",\"a\",\"B\",\"a\",\"a\",\"a\",\"b\",\"b\",\"b\",\"d\",\"a\",\"a\",\"a\",\"A\",\"a\",\"a\",\"A\",'a'\"a\",\"a\",\"B\",\"a\",\"a\",\"a\",\"b\",\"b\",\"b\",\"d\",\"a\",\"a\",\"a\",\"A\",\"a\",\"a\",\"A\",'a'\"a\",\"a\",\"B\",\"a\",\"a\",\"a\",\"b\",\"b\",\"b\",\"d\",\"a\",\"a\",\"a\",\"A\",\"a\",\"a\",\"A\",'a'\"a\",\"a\",\"B\",\"a\",\"a\",\"a\",\"b\",\"b\",\"b\",\"d\",\"a\",\"a\",\"a\",\"A\",\"a\",\"a\",\"A\",'a'\"a\",\"a\",\"B\",\"a\",\"a\",\"a\",\"b\",\"b\",\"b\",\"d\",\"a\",\"a\",\"a\",\"A\",\"a\",\"a\",\"A\",'a'\"a\"\"a\",\"B\",\"a\",\"a\",\"a\",\"b\",\"b\",\"b\",\"d\",\"a\",\"a\",\"a\",\"A\",\"a\",\"a\",\"A\",'a'\"a\"\"a\",\"B\",\"a\",\"a\",\"a\",\"b\",\"b\",\"b\",\"d\",\"a\",\"a\",\"a\",\"A\",\"a\",\"a\",\"A\",'a'\"a\"\"a\",\"B\",\"a\",\"a\",\"a\",\"b\",\"b\",\"b\",\"d\",\"a\",\"a\",\"a\",\"A\",\"a\",\"a\",\"A\",'a'\"a\"]\n",
    "_lee.count(\"a\")"
   ]
  },
  {
   "cell_type": "code",
   "execution_count": 40,
   "id": "1871216b",
   "metadata": {},
   "outputs": [
    {
     "data": {
      "text/plain": [
       "13"
      ]
     },
     "execution_count": 40,
     "metadata": {},
     "output_type": "execute_result"
    }
   ],
   "source": [
    "_lee = [\"a\",\"B\",\"a\",\"a\",\"a\",\"b\",\"b\",\"b\",\"d\",\"a\",\"a\",\"a\",\"A\",\"a\",\"a\",\"A\",'a'\"a\",\"a\",\"B\",\"a\",\"a\",\"a\",\"b\",\"b\",\"b\",\"d\",\"a\",\"a\",\"a\",\"A\",\"a\",\"a\",\"A\",'a'\"a\",\"a\",\"B\",\"a\",\"a\",\"a\",\"b\",\"b\",\"b\",\"d\",\"a\",\"a\",\"a\",\"A\",\"a\",\"a\",\"A\",'a'\"a\",\"a\",\"B\",\"a\",\"a\",\"a\",\"b\",\"b\",\"b\",\"d\",\"a\",\"a\",\"a\",\"A\",\"a\",\"a\",\"A\",'a'\"a\",\"a\",\"B\",\"a\",\"a\",\"a\",\"b\",\"b\",\"b\",\"d\",\"a\",\"a\",\"a\",\"A\",\"a\",\"a\",\"A\",'a'\"a\",\"a\",\"B\",\"a\",\"a\",\"a\",\"b\",\"b\",\"b\",\"d\",\"a\",\"a\",\"a\",\"A\",\"a\",\"a\",\"A\",'a'\"a\",\"a\",\"B\",\"a\",\"a\",\"a\",\"b\",\"b\",\"b\",\"d\",\"a\",\"a\",\"a\",\"A\",\"a\",\"a\",\"A\",'a'\"a\",\"a\",\"B\",\"a\",\"a\",\"a\",\"b\",\"b\",\"b\",\"d\",\"a\",\"a\",\"a\",\"A\",\"a\",\"a\",\"A\",'a'\"a\",\"a\",\"B\",\"a\",\"a\",\"a\",\"b\",\"b\",\"b\",\"d\",\"a\",\"a\",\"a\",\"A\",\"a\",\"a\",\"A\",'a'\"a\",\"a\",\"B\",\"a\",\"a\",\"a\",\"b\",\"b\",\"b\",\"d\",\"a\",\"a\",\"a\",\"A\",\"a\",\"a\",\"A\",'a'\"a\"\"a\",\"B\",\"a\",\"a\",\"a\",\"b\",\"b\",\"b\",\"d\",\"a\",\"a\",\"a\",\"A\",\"a\",\"a\",\"A\",'a'\"a\"\"a\",\"B\",\"a\",\"a\",\"a\",\"b\",\"b\",\"b\",\"d\",\"a\",\"a\",\"a\",\"A\",\"a\",\"a\",\"A\",'a'\"a\"\"a\",\"B\",\"a\",\"a\",\"a\",\"b\",\"b\",\"b\",\"d\",\"a\",\"a\",\"a\",\"A\",\"a\",\"a\",\"A\",'a'\"a\"]\n",
    "_lee.count(\"B\")"
   ]
  },
  {
   "cell_type": "code",
   "execution_count": 41,
   "id": "f8f617d8",
   "metadata": {},
   "outputs": [
    {
     "data": {
      "text/plain": [
       "26"
      ]
     },
     "execution_count": 41,
     "metadata": {},
     "output_type": "execute_result"
    }
   ],
   "source": [
    "_lee = [\"a\",\"B\",\"a\",\"a\",\"a\",\"b\",\"b\",\"b\",\"d\",\"a\",\"a\",\"a\",\"A\",\"a\",\"a\",\"A\",'a'\"a\",\"a\",\"B\",\"a\",\"a\",\"a\",\"b\",\"b\",\"b\",\"d\",\"a\",\"a\",\"a\",\"A\",\"a\",\"a\",\"A\",'a'\"a\",\"a\",\"B\",\"a\",\"a\",\"a\",\"b\",\"b\",\"b\",\"d\",\"a\",\"a\",\"a\",\"A\",\"a\",\"a\",\"A\",'a'\"a\",\"a\",\"B\",\"a\",\"a\",\"a\",\"b\",\"b\",\"b\",\"d\",\"a\",\"a\",\"a\",\"A\",\"a\",\"a\",\"A\",'a'\"a\",\"a\",\"B\",\"a\",\"a\",\"a\",\"b\",\"b\",\"b\",\"d\",\"a\",\"a\",\"a\",\"A\",\"a\",\"a\",\"A\",'a'\"a\",\"a\",\"B\",\"a\",\"a\",\"a\",\"b\",\"b\",\"b\",\"d\",\"a\",\"a\",\"a\",\"A\",\"a\",\"a\",\"A\",'a'\"a\",\"a\",\"B\",\"a\",\"a\",\"a\",\"b\",\"b\",\"b\",\"d\",\"a\",\"a\",\"a\",\"A\",\"a\",\"a\",\"A\",'a'\"a\",\"a\",\"B\",\"a\",\"a\",\"a\",\"b\",\"b\",\"b\",\"d\",\"a\",\"a\",\"a\",\"A\",\"a\",\"a\",\"A\",'a'\"a\",\"a\",\"B\",\"a\",\"a\",\"a\",\"b\",\"b\",\"b\",\"d\",\"a\",\"a\",\"a\",\"A\",\"a\",\"a\",\"A\",'a'\"a\",\"a\",\"B\",\"a\",\"a\",\"a\",\"b\",\"b\",\"b\",\"d\",\"a\",\"a\",\"a\",\"A\",\"a\",\"a\",\"A\",'a'\"a\"\"a\",\"B\",\"a\",\"a\",\"a\",\"b\",\"b\",\"b\",\"d\",\"a\",\"a\",\"a\",\"A\",\"a\",\"a\",\"A\",'a'\"a\"\"a\",\"B\",\"a\",\"a\",\"a\",\"b\",\"b\",\"b\",\"d\",\"a\",\"a\",\"a\",\"A\",\"a\",\"a\",\"A\",'a'\"a\"\"a\",\"B\",\"a\",\"a\",\"a\",\"b\",\"b\",\"b\",\"d\",\"a\",\"a\",\"a\",\"A\",\"a\",\"a\",\"A\",'a'\"a\"]\n",
    "_lee.count(\"A\")"
   ]
  },
  {
   "cell_type": "code",
   "execution_count": 42,
   "id": "f31eaf01",
   "metadata": {},
   "outputs": [
    {
     "data": {
      "text/plain": [
       "39"
      ]
     },
     "execution_count": 42,
     "metadata": {},
     "output_type": "execute_result"
    }
   ],
   "source": [
    "_lee = [\"a\",\"B\",\"a\",\"a\",\"a\",\"b\",\"b\",\"b\",\"d\",\"a\",\"a\",\"a\",\"A\",\"a\",\"a\",\"A\",'a'\"a\",\"a\",\"B\",\"a\",\"a\",\"a\",\"b\",\"b\",\"b\",\"d\",\"a\",\"a\",\"a\",\"A\",\"a\",\"a\",\"A\",'a'\"a\",\"a\",\"B\",\"a\",\"a\",\"a\",\"b\",\"b\",\"b\",\"d\",\"a\",\"a\",\"a\",\"A\",\"a\",\"a\",\"A\",'a'\"a\",\"a\",\"B\",\"a\",\"a\",\"a\",\"b\",\"b\",\"b\",\"d\",\"a\",\"a\",\"a\",\"A\",\"a\",\"a\",\"A\",'a'\"a\",\"a\",\"B\",\"a\",\"a\",\"a\",\"b\",\"b\",\"b\",\"d\",\"a\",\"a\",\"a\",\"A\",\"a\",\"a\",\"A\",'a'\"a\",\"a\",\"B\",\"a\",\"a\",\"a\",\"b\",\"b\",\"b\",\"d\",\"a\",\"a\",\"a\",\"A\",\"a\",\"a\",\"A\",'a'\"a\",\"a\",\"B\",\"a\",\"a\",\"a\",\"b\",\"b\",\"b\",\"d\",\"a\",\"a\",\"a\",\"A\",\"a\",\"a\",\"A\",'a'\"a\",\"a\",\"B\",\"a\",\"a\",\"a\",\"b\",\"b\",\"b\",\"d\",\"a\",\"a\",\"a\",\"A\",\"a\",\"a\",\"A\",'a'\"a\",\"a\",\"B\",\"a\",\"a\",\"a\",\"b\",\"b\",\"b\",\"d\",\"a\",\"a\",\"a\",\"A\",\"a\",\"a\",\"A\",'a'\"a\",\"a\",\"B\",\"a\",\"a\",\"a\",\"b\",\"b\",\"b\",\"d\",\"a\",\"a\",\"a\",\"A\",\"a\",\"a\",\"A\",'a'\"a\"\"a\",\"B\",\"a\",\"a\",\"a\",\"b\",\"b\",\"b\",\"d\",\"a\",\"a\",\"a\",\"A\",\"a\",\"a\",\"A\",'a'\"a\"\"a\",\"B\",\"a\",\"a\",\"a\",\"b\",\"b\",\"b\",\"d\",\"a\",\"a\",\"a\",\"A\",\"a\",\"a\",\"A\",'a'\"a\"\"a\",\"B\",\"a\",\"a\",\"a\",\"b\",\"b\",\"b\",\"d\",\"a\",\"a\",\"a\",\"A\",\"a\",\"a\",\"A\",'a'\"a\"]\n",
    "_lee.count(\"b\")"
   ]
  },
  {
   "cell_type": "code",
   "execution_count": 43,
   "id": "ccae5f8f",
   "metadata": {},
   "outputs": [
    {
     "data": {
      "text/plain": [
       "13"
      ]
     },
     "execution_count": 43,
     "metadata": {},
     "output_type": "execute_result"
    }
   ],
   "source": [
    "_lee = [\"a\",\"B\",\"a\",\"a\",\"a\",\"b\",\"b\",\"b\",\"d\",\"a\",\"a\",\"a\",\"A\",\"a\",\"a\",\"A\",'a'\"a\",\"a\",\"B\",\"a\",\"a\",\"a\",\"b\",\"b\",\"b\",\"d\",\"a\",\"a\",\"a\",\"A\",\"a\",\"a\",\"A\",'a'\"a\",\"a\",\"B\",\"a\",\"a\",\"a\",\"b\",\"b\",\"b\",\"d\",\"a\",\"a\",\"a\",\"A\",\"a\",\"a\",\"A\",'a'\"a\",\"a\",\"B\",\"a\",\"a\",\"a\",\"b\",\"b\",\"b\",\"d\",\"a\",\"a\",\"a\",\"A\",\"a\",\"a\",\"A\",'a'\"a\",\"a\",\"B\",\"a\",\"a\",\"a\",\"b\",\"b\",\"b\",\"d\",\"a\",\"a\",\"a\",\"A\",\"a\",\"a\",\"A\",'a'\"a\",\"a\",\"B\",\"a\",\"a\",\"a\",\"b\",\"b\",\"b\",\"d\",\"a\",\"a\",\"a\",\"A\",\"a\",\"a\",\"A\",'a'\"a\",\"a\",\"B\",\"a\",\"a\",\"a\",\"b\",\"b\",\"b\",\"d\",\"a\",\"a\",\"a\",\"A\",\"a\",\"a\",\"A\",'a'\"a\",\"a\",\"B\",\"a\",\"a\",\"a\",\"b\",\"b\",\"b\",\"d\",\"a\",\"a\",\"a\",\"A\",\"a\",\"a\",\"A\",'a'\"a\",\"a\",\"B\",\"a\",\"a\",\"a\",\"b\",\"b\",\"b\",\"d\",\"a\",\"a\",\"a\",\"A\",\"a\",\"a\",\"A\",'a'\"a\",\"a\",\"B\",\"a\",\"a\",\"a\",\"b\",\"b\",\"b\",\"d\",\"a\",\"a\",\"a\",\"A\",\"a\",\"a\",\"A\",'a'\"a\"\"a\",\"B\",\"a\",\"a\",\"a\",\"b\",\"b\",\"b\",\"d\",\"a\",\"a\",\"a\",\"A\",\"a\",\"a\",\"A\",'a'\"a\"\"a\",\"B\",\"a\",\"a\",\"a\",\"b\",\"b\",\"b\",\"d\",\"a\",\"a\",\"a\",\"A\",\"a\",\"a\",\"A\",'a'\"a\"\"a\",\"B\",\"a\",\"a\",\"a\",\"b\",\"b\",\"b\",\"d\",\"a\",\"a\",\"a\",\"A\",\"a\",\"a\",\"A\",'a'\"a\"]\n",
    "_lee.count(\"d\")"
   ]
  },
  {
   "cell_type": "markdown",
   "id": "ccd65979",
   "metadata": {},
   "source": [
    "# EXTEND\n",
    "\n",
    "Iterable : string,bytes,,tuple,list,set,dictionary\n",
    "\n",
    "non iterable : int, float, bool,complex "
   ]
  },
  {
   "cell_type": "code",
   "execution_count": 44,
   "id": "cf86e911",
   "metadata": {},
   "outputs": [
    {
     "data": {
      "text/plain": [
       "['lion', 'tiger', 'dog', 'cat', 'bird', 'monkey', 'd', 'd']"
      ]
     },
     "execution_count": 44,
     "metadata": {},
     "output_type": "execute_result"
    }
   ],
   "source": [
    "B = [\"lion\",\"tiger\",\"dog\",\"cat\",\"bird\",\"monkey\"]\n",
    "B.extend(\"dd\")\n",
    "B\n"
   ]
  },
  {
   "cell_type": "code",
   "execution_count": 45,
   "id": "cf08902b",
   "metadata": {},
   "outputs": [
    {
     "data": {
      "text/plain": [
       "['lion', 'tiger', 'dog', 'cat', 'bird', 'monkey', 2]"
      ]
     },
     "execution_count": 45,
     "metadata": {},
     "output_type": "execute_result"
    }
   ],
   "source": [
    "B = [\"lion\",\"tiger\",\"dog\",\"cat\",\"bird\",\"monkey\"]\n",
    "B.extend([2])\n",
    "B"
   ]
  },
  {
   "cell_type": "code",
   "execution_count": 46,
   "id": "c213e20a",
   "metadata": {},
   "outputs": [
    {
     "data": {
      "text/plain": [
       "['sekar', 'lakshmi', 33]"
      ]
     },
     "execution_count": 46,
     "metadata": {},
     "output_type": "execute_result"
    }
   ],
   "source": [
    "b = [\"sekar\",\"lakshmi\"]\n",
    "b.extend({33})\n",
    "b"
   ]
  },
  {
   "cell_type": "code",
   "execution_count": 47,
   "id": "13661215",
   "metadata": {},
   "outputs": [
    {
     "data": {
      "text/plain": [
       "['sekar', 'lakshmi', 1, 2]"
      ]
     },
     "execution_count": 47,
     "metadata": {},
     "output_type": "execute_result"
    }
   ],
   "source": [
    "b = [\"sekar\",\"lakshmi\"]\n",
    "b.extend((1,2))\n",
    "b"
   ]
  },
  {
   "cell_type": "code",
   "execution_count": 48,
   "id": "36b09fdd",
   "metadata": {},
   "outputs": [
    {
     "name": "stdout",
     "output_type": "stream",
     "text": [
      "['sekar', 'lakshmi', 'JUJU']\n"
     ]
    },
    {
     "data": {
      "text/plain": [
       "3"
      ]
     },
     "execution_count": 48,
     "metadata": {},
     "output_type": "execute_result"
    }
   ],
   "source": [
    "S = [\"sekar\",\"lakshmi\",]\n",
    "S.extend([\"JUJU\"])\n",
    "print(S)\n",
    "len(S)"
   ]
  },
  {
   "cell_type": "code",
   "execution_count": 49,
   "id": "f8d5d450",
   "metadata": {},
   "outputs": [
    {
     "data": {
      "text/plain": [
       "['indhu', 'renu', 'meenu', 'uma', 'dhilipan', 'siva', 's', 'u', 'd', 'h', 'a']"
      ]
     },
     "execution_count": 49,
     "metadata": {},
     "output_type": "execute_result"
    }
   ],
   "source": [
    "F = [\"indhu\",\"renu\",\"meenu\",\"uma\",\"dhilipan\",\"siva\"]\n",
    "F.extend(\"sudha\")\n",
    "F"
   ]
  },
  {
   "cell_type": "code",
   "execution_count": 50,
   "id": "98ac2e0f",
   "metadata": {
    "scrolled": true
   },
   "outputs": [
    {
     "data": {
      "text/plain": [
       "['indhu', 'renu', 'meenu', 'uma', 'dhilipan', 'siva', 's', 'u', 'd', 'h', 'a']"
      ]
     },
     "execution_count": 50,
     "metadata": {},
     "output_type": "execute_result"
    }
   ],
   "source": [
    "F = [\"indhu\",\"renu\",\"meenu\",\"uma\",\"dhilipan\",\"siva\"]\n",
    "F.extend(\"sudha\")\n",
    "F"
   ]
  },
  {
   "cell_type": "code",
   "execution_count": 51,
   "id": "9b33d077",
   "metadata": {},
   "outputs": [
    {
     "data": {
      "text/plain": [
       "['DHIVI', 'JAYA', ['3+3j'], '5']"
      ]
     },
     "execution_count": 51,
     "metadata": {},
     "output_type": "execute_result"
    }
   ],
   "source": [
    "A = [\"DHIVI\",\"JAYA\",[\"3+3j\"]]\n",
    "A.extend(\"5\")\n",
    "A"
   ]
  },
  {
   "cell_type": "markdown",
   "id": "b2c4894c",
   "metadata": {},
   "source": [
    "# INDEX"
   ]
  },
  {
   "cell_type": "code",
   "execution_count": 52,
   "id": "d29878a3",
   "metadata": {
    "scrolled": true
   },
   "outputs": [
    {
     "data": {
      "text/plain": [
       "0"
      ]
     },
     "execution_count": 52,
     "metadata": {},
     "output_type": "execute_result"
    }
   ],
   "source": [
    "A = [\"SOMESH\",\"HARSHITH\"]\n",
    "A.index(\"SOMESH\")"
   ]
  },
  {
   "cell_type": "code",
   "execution_count": 53,
   "id": "6497d7d7",
   "metadata": {
    "scrolled": true
   },
   "outputs": [
    {
     "data": {
      "text/plain": [
       "4"
      ]
     },
     "execution_count": 53,
     "metadata": {},
     "output_type": "execute_result"
    }
   ],
   "source": [
    "A = [\"SOMESH\",\"HARSHITH\",\"ASHWIN\",\"DINESH\",\"KALAI\",\"HARISH\",\"KALAI\"]\n",
    "A.index(\"KALAI\")"
   ]
  },
  {
   "cell_type": "code",
   "execution_count": 54,
   "id": "b0fbebc9",
   "metadata": {},
   "outputs": [
    {
     "data": {
      "text/plain": [
       "1"
      ]
     },
     "execution_count": 54,
     "metadata": {},
     "output_type": "execute_result"
    }
   ],
   "source": [
    "A = [\"SOMESH\",\"HARSHITH\",\"ASHWIN\",\"DINESH\",\"KALAI\",\"HARISH\",\"KALAI\"]\n",
    "A.index(\"HARSHITH\")"
   ]
  },
  {
   "cell_type": "code",
   "execution_count": 55,
   "id": "3fd359bc",
   "metadata": {},
   "outputs": [
    {
     "data": {
      "text/plain": [
       "0"
      ]
     },
     "execution_count": 55,
     "metadata": {},
     "output_type": "execute_result"
    }
   ],
   "source": [
    "B = [\"OKAY\",'YES']\n",
    "B.index(\"OKAY\")"
   ]
  },
  {
   "cell_type": "code",
   "execution_count": 56,
   "id": "d2473fb3",
   "metadata": {},
   "outputs": [
    {
     "data": {
      "text/plain": [
       "2"
      ]
     },
     "execution_count": 56,
     "metadata": {},
     "output_type": "execute_result"
    }
   ],
   "source": [
    "G= [\"OKAY\",'YES',\"NO\"]\n",
    "G.index(\"NO\")"
   ]
  },
  {
   "cell_type": "markdown",
   "id": "4d258406",
   "metadata": {},
   "source": [
    "# INSERT\n",
    "\n",
    "string\n",
    "\n",
    "integer\n",
    "\n",
    "float\n",
    "\n",
    "complex\n",
    "\n",
    "set\n",
    "\n",
    "list\n",
    "\n",
    "dictionary\n",
    "\n",
    "bool\n"
   ]
  },
  {
   "cell_type": "code",
   "execution_count": 57,
   "id": "8ec4545a",
   "metadata": {},
   "outputs": [
    {
     "data": {
      "text/plain": [
       "['OKAY', 'ohh', 'YES', 'NO']"
      ]
     },
     "execution_count": 57,
     "metadata": {},
     "output_type": "execute_result"
    }
   ],
   "source": [
    "G= [\"OKAY\",'YES',\"NO\"]\n",
    "G.insert(1,\"ohh\")\n",
    "G"
   ]
  },
  {
   "cell_type": "code",
   "execution_count": 58,
   "id": "5ea9fa60",
   "metadata": {},
   "outputs": [
    {
     "data": {
      "text/plain": [
       "['OKAY', 22, 'YES', 'NO']"
      ]
     },
     "execution_count": 58,
     "metadata": {},
     "output_type": "execute_result"
    }
   ],
   "source": [
    "G= [\"OKAY\",'YES',\"NO\"]\n",
    "G.insert(-2,22)\n",
    "G"
   ]
  },
  {
   "cell_type": "code",
   "execution_count": 59,
   "id": "e4fd64ff",
   "metadata": {},
   "outputs": [
    {
     "data": {
      "text/plain": [
       "['OKAY', 2.33, 'YES', 'NO']"
      ]
     },
     "execution_count": 59,
     "metadata": {},
     "output_type": "execute_result"
    }
   ],
   "source": [
    "G= [\"OKAY\",'YES',\"NO\"]\n",
    "G.insert(-2,2.33)\n",
    "G"
   ]
  },
  {
   "cell_type": "code",
   "execution_count": 60,
   "id": "cc983f22",
   "metadata": {},
   "outputs": [
    {
     "data": {
      "text/plain": [
       "['OKAY', 'YES', True, 'NO']"
      ]
     },
     "execution_count": 60,
     "metadata": {},
     "output_type": "execute_result"
    }
   ],
   "source": [
    "G= [\"OKAY\",'YES',\"NO\"]\n",
    "G.insert(2,True)\n",
    "G"
   ]
  },
  {
   "cell_type": "code",
   "execution_count": 61,
   "id": "55609b03",
   "metadata": {},
   "outputs": [
    {
     "data": {
      "text/plain": [
       "['OKAY', 'YES', False, 'NO']"
      ]
     },
     "execution_count": 61,
     "metadata": {},
     "output_type": "execute_result"
    }
   ],
   "source": [
    "G= [\"OKAY\",'YES',\"NO\"]\n",
    "G.insert(2,False)\n",
    "G"
   ]
  },
  {
   "cell_type": "code",
   "execution_count": 62,
   "id": "a79c0f6c",
   "metadata": {},
   "outputs": [
    {
     "data": {
      "text/plain": [
       "['OKAY', 'YES', ['yep'], 'NO']"
      ]
     },
     "execution_count": 62,
     "metadata": {},
     "output_type": "execute_result"
    }
   ],
   "source": [
    "G= [\"OKAY\",'YES',\"NO\"]\n",
    "G.insert(2,[\"yep\"])\n",
    "G"
   ]
  },
  {
   "cell_type": "code",
   "execution_count": 63,
   "id": "57ad3dc5",
   "metadata": {},
   "outputs": [
    {
     "data": {
      "text/plain": [
       "['OKAY', 'YES', {'automation'}, 'NO']"
      ]
     },
     "execution_count": 63,
     "metadata": {},
     "output_type": "execute_result"
    }
   ],
   "source": [
    "G= [\"OKAY\",'YES',\"NO\"]\n",
    "G.insert(2,{\"automation\"})\n",
    "G"
   ]
  },
  {
   "cell_type": "markdown",
   "id": "5304f361",
   "metadata": {},
   "source": [
    "# POP"
   ]
  },
  {
   "cell_type": "code",
   "execution_count": 64,
   "id": "f540c989",
   "metadata": {},
   "outputs": [
    {
     "data": {
      "text/plain": [
       "['OKAY', 'YES']"
      ]
     },
     "execution_count": 64,
     "metadata": {},
     "output_type": "execute_result"
    }
   ],
   "source": [
    "G= [\"OKAY\",'YES',\"NO\"]\n",
    "G.pop()\n",
    "G"
   ]
  },
  {
   "cell_type": "code",
   "execution_count": 65,
   "id": "9fac52eb",
   "metadata": {},
   "outputs": [
    {
     "data": {
      "text/plain": [
       "['OKAY']"
      ]
     },
     "execution_count": 65,
     "metadata": {},
     "output_type": "execute_result"
    }
   ],
   "source": [
    "G= [\"OKAY\",'YES']\n",
    "G.pop()\n",
    "G"
   ]
  },
  {
   "cell_type": "code",
   "execution_count": 66,
   "id": "b16b95ea",
   "metadata": {},
   "outputs": [
    {
     "data": {
      "text/plain": [
       "'ASHWIN'"
      ]
     },
     "execution_count": 66,
     "metadata": {},
     "output_type": "execute_result"
    }
   ],
   "source": [
    "A = [\"SOMESH\",\"HARSHITH\",\"ASHWIN\",\"DINESH\",\"KALAI\",\"HARISH\",\"KALAI\"]\n",
    "A.pop(2)\n"
   ]
  },
  {
   "cell_type": "code",
   "execution_count": 67,
   "id": "b93d6786",
   "metadata": {},
   "outputs": [
    {
     "data": {
      "text/plain": [
       "'HARISH'"
      ]
     },
     "execution_count": 67,
     "metadata": {},
     "output_type": "execute_result"
    }
   ],
   "source": [
    "A = [\"SOMESH\",\"HARSHITH\",\"ASHWIN\",\"DINESH\",\"KALAI\",\"HARISH\",\"KALAI\"]\n",
    "A.pop(-2)"
   ]
  },
  {
   "cell_type": "code",
   "execution_count": 68,
   "id": "7f4591fa",
   "metadata": {},
   "outputs": [
    {
     "data": {
      "text/plain": [
       "'DINESH'"
      ]
     },
     "execution_count": 68,
     "metadata": {},
     "output_type": "execute_result"
    }
   ],
   "source": [
    "A = [\"SOMESH\",\"HARSHITH\",\"ASHWIN\",\"DINESH\",\"KALAI\",\"HARISH\",\"KALAI\"]\n",
    "A.pop(3)"
   ]
  },
  {
   "cell_type": "code",
   "execution_count": 69,
   "id": "28259234",
   "metadata": {},
   "outputs": [
    {
     "data": {
      "text/plain": [
       "'HARISH'"
      ]
     },
     "execution_count": 69,
     "metadata": {},
     "output_type": "execute_result"
    }
   ],
   "source": [
    "A = [\"SOMESH\",\"HARSHITH\",\"ASHWIN\",\"DINESH\",\"KALAI\",\"HARISH\",\"KALAI\"]\n",
    "A.pop(5)"
   ]
  },
  {
   "cell_type": "markdown",
   "id": "fb433262",
   "metadata": {},
   "source": [
    "# REMOVE"
   ]
  },
  {
   "cell_type": "code",
   "execution_count": 70,
   "id": "4981cfed",
   "metadata": {},
   "outputs": [
    {
     "data": {
      "text/plain": [
       "['SOMESH', 'HARSHITH', 'ASHWIN', 'KALAI', 'HARISH', 'KALAI']"
      ]
     },
     "execution_count": 70,
     "metadata": {},
     "output_type": "execute_result"
    }
   ],
   "source": [
    "A = [\"SOMESH\",\"HARSHITH\",\"ASHWIN\",\"DINESH\",\"KALAI\",\"HARISH\",\"KALAI\"]\n",
    "A.remove(\"DINESH\")\n",
    "A"
   ]
  },
  {
   "cell_type": "code",
   "execution_count": 71,
   "id": "ea1516bb",
   "metadata": {},
   "outputs": [
    {
     "data": {
      "text/plain": [
       "['SOMESH', 'HARSHITH', 'ASHWIN', 'DINESH', 'KALAI', 'KALAI']"
      ]
     },
     "execution_count": 71,
     "metadata": {},
     "output_type": "execute_result"
    }
   ],
   "source": [
    "A = [\"SOMESH\",\"HARSHITH\",\"ASHWIN\",\"DINESH\",\"KALAI\",\"HARISH\",\"KALAI\"]\n",
    "A.remove(\"HARISH\")\n",
    "A"
   ]
  },
  {
   "cell_type": "code",
   "execution_count": 72,
   "id": "a6644fab",
   "metadata": {},
   "outputs": [
    {
     "data": {
      "text/plain": [
       "['SOMESH', 'HARSHITH', 'DINESH', 'KALAI', 'HARISH', 'KALAI']"
      ]
     },
     "execution_count": 72,
     "metadata": {},
     "output_type": "execute_result"
    }
   ],
   "source": [
    "A = [\"SOMESH\",\"HARSHITH\",\"ASHWIN\",\"DINESH\",\"KALAI\",\"HARISH\",\"KALAI\"]\n",
    "A.remove(\"ASHWIN\")\n",
    "A"
   ]
  },
  {
   "cell_type": "code",
   "execution_count": 73,
   "id": "b0ccefea",
   "metadata": {},
   "outputs": [
    {
     "data": {
      "text/plain": [
       "['ML', 'DL', 'DS', 'AC', 'DEE']"
      ]
     },
     "execution_count": 73,
     "metadata": {},
     "output_type": "execute_result"
    }
   ],
   "source": [
    "E = [\"AI\",\"ML\",\"DL\",\"DS\",\"AC\",\"DEE\"]\n",
    "E.remove(\"AI\")\n",
    "E"
   ]
  },
  {
   "cell_type": "markdown",
   "id": "8420e7d4",
   "metadata": {},
   "source": [
    "# REVERSE"
   ]
  },
  {
   "cell_type": "code",
   "execution_count": 74,
   "id": "13049b58",
   "metadata": {},
   "outputs": [
    {
     "data": {
      "text/plain": [
       "['KALAI', 'HARISH', 'KALAI', 'DINESH', 'ASHWIN', 'HARSHITH', 'SOMESH']"
      ]
     },
     "execution_count": 74,
     "metadata": {},
     "output_type": "execute_result"
    }
   ],
   "source": [
    "A = [\"SOMESH\",\"HARSHITH\",\"ASHWIN\",\"DINESH\",\"KALAI\",\"HARISH\",\"KALAI\"]\n",
    "A.reverse()\n",
    "A"
   ]
  },
  {
   "cell_type": "code",
   "execution_count": 75,
   "id": "3840d272",
   "metadata": {},
   "outputs": [
    {
     "data": {
      "text/plain": [
       "['8', '2', '8', '4', '5', '3', '1']"
      ]
     },
     "execution_count": 75,
     "metadata": {},
     "output_type": "execute_result"
    }
   ],
   "source": [
    "A = [\"1\",\"3\",\"5\",\"4\",\"8\",\"2\",\"8\"]\n",
    "A.reverse()\n",
    "A"
   ]
  },
  {
   "cell_type": "code",
   "execution_count": 76,
   "id": "f08745c1",
   "metadata": {},
   "outputs": [
    {
     "data": {
      "text/plain": [
       "['DEE', 'AC', 'DS', 'DL', 'ML', 'AI']"
      ]
     },
     "execution_count": 76,
     "metadata": {},
     "output_type": "execute_result"
    }
   ],
   "source": [
    "E = [\"AI\",\"ML\",\"DL\",\"DS\",\"AC\",\"DEE\"]\n",
    "E.reverse()\n",
    "E"
   ]
  },
  {
   "cell_type": "markdown",
   "id": "f59a9924",
   "metadata": {},
   "source": [
    "# SORT"
   ]
  },
  {
   "cell_type": "code",
   "execution_count": 77,
   "id": "49bc2b19",
   "metadata": {},
   "outputs": [
    {
     "data": {
      "text/plain": [
       "['ASHWIN', 'DINESH', 'HARISH', 'HARSHITH', 'KALAI', 'KALAI', 'SOMESH']"
      ]
     },
     "execution_count": 77,
     "metadata": {},
     "output_type": "execute_result"
    }
   ],
   "source": [
    "A = [\"SOMESH\",\"HARSHITH\",\"ASHWIN\",\"DINESH\",\"KALAI\",\"HARISH\",\"KALAI\"]\n",
    "A.sort()\n",
    "A"
   ]
  },
  {
   "cell_type": "code",
   "execution_count": 78,
   "id": "85ff4d0f",
   "metadata": {},
   "outputs": [
    {
     "data": {
      "text/plain": [
       "['ASHWIN', 'DINESH', 'HARISH', 'HARSHITH', 'KALAI', 'KALAI', 'SOMESH']"
      ]
     },
     "execution_count": 78,
     "metadata": {},
     "output_type": "execute_result"
    }
   ],
   "source": [
    "A = [\"SOMESH\",\"HARSHITH\",\"ASHWIN\",\"DINESH\",\"KALAI\",\"HARISH\",\"KALAI\"]\n",
    "A.sort()\n",
    "A"
   ]
  },
  {
   "cell_type": "code",
   "execution_count": 79,
   "id": "bc6a8d52",
   "metadata": {},
   "outputs": [
    {
     "data": {
      "text/plain": [
       "['SOMESH', 'KALAI', 'KALAI', 'HARSHITH', 'HARISH', 'DINESH', 'ASHWIN']"
      ]
     },
     "execution_count": 79,
     "metadata": {},
     "output_type": "execute_result"
    }
   ],
   "source": [
    "A = [\"SOMESH\",\"HARSHITH\",\"ASHWIN\",\"DINESH\",\"KALAI\",\"HARISH\",\"KALAI\"]\n",
    "A.sort(reverse =True)\n",
    "A"
   ]
  },
  {
   "cell_type": "code",
   "execution_count": 80,
   "id": "98498d35",
   "metadata": {},
   "outputs": [
    {
     "data": {
      "text/plain": [
       "['8', '8', '5', '4', '3', '2', '1']"
      ]
     },
     "execution_count": 80,
     "metadata": {},
     "output_type": "execute_result"
    }
   ],
   "source": [
    "A = [\"1\",\"3\",\"5\",\"4\",\"8\",\"2\",\"8\"]\n",
    "A.sort(reverse =True)\n",
    "A"
   ]
  }
 ],
 "metadata": {
  "kernelspec": {
   "display_name": "Python 3 (ipykernel)",
   "language": "python",
   "name": "python3"
  },
  "language_info": {
   "codemirror_mode": {
    "name": "ipython",
    "version": 3
   },
   "file_extension": ".py",
   "mimetype": "text/x-python",
   "name": "python",
   "nbconvert_exporter": "python",
   "pygments_lexer": "ipython3",
   "version": "3.10.9"
  }
 },
 "nbformat": 4,
 "nbformat_minor": 5
}
