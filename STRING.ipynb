{
 "cells": [
  {
   "cell_type": "markdown",
   "id": "ada2aa4a",
   "metadata": {},
   "source": [
    "# STRING"
   ]
  },
  {
   "cell_type": "markdown",
   "id": "d25da4f7",
   "metadata": {},
   "source": [
    "# CAPITALIZE"
   ]
  },
  {
   "cell_type": "code",
   "execution_count": 1,
   "id": "7e820d49",
   "metadata": {},
   "outputs": [
    {
     "data": {
      "text/plain": [
       "'Abi'"
      ]
     },
     "execution_count": 1,
     "metadata": {},
     "output_type": "execute_result"
    }
   ],
   "source": [
    "A = \"abi\"\n",
    "A.capitalize()"
   ]
  },
  {
   "cell_type": "code",
   "execution_count": 2,
   "id": "a06401f8",
   "metadata": {},
   "outputs": [
    {
     "data": {
      "text/plain": [
       "'123abi'"
      ]
     },
     "execution_count": 2,
     "metadata": {},
     "output_type": "execute_result"
    }
   ],
   "source": [
    "A = \"123abi\"\n",
    "A.capitalize()"
   ]
  },
  {
   "cell_type": "code",
   "execution_count": 3,
   "id": "2ed8c204",
   "metadata": {},
   "outputs": [
    {
     "data": {
      "text/plain": [
       "'Dhivi'"
      ]
     },
     "execution_count": 3,
     "metadata": {},
     "output_type": "execute_result"
    }
   ],
   "source": [
    "B = \"Dhivi\"\n",
    "B.capitalize()"
   ]
  },
  {
   "cell_type": "markdown",
   "id": "4bc686e6",
   "metadata": {},
   "source": [
    "# CASEFOLD"
   ]
  },
  {
   "cell_type": "code",
   "execution_count": 4,
   "id": "e3460436",
   "metadata": {},
   "outputs": [
    {
     "data": {
      "text/plain": [
       "'abd'"
      ]
     },
     "execution_count": 4,
     "metadata": {},
     "output_type": "execute_result"
    }
   ],
   "source": [
    "B = \"ABD\"\n",
    "B.casefold()"
   ]
  },
  {
   "cell_type": "code",
   "execution_count": 5,
   "id": "faacef54",
   "metadata": {},
   "outputs": [
    {
     "data": {
      "text/plain": [
       "'fer'"
      ]
     },
     "execution_count": 5,
     "metadata": {},
     "output_type": "execute_result"
    }
   ],
   "source": [
    "B = \"FER\"\n",
    "B.casefold()"
   ]
  },
  {
   "cell_type": "code",
   "execution_count": 6,
   "id": "af809c5a",
   "metadata": {},
   "outputs": [
    {
     "data": {
      "text/plain": [
       "'ljy'"
      ]
     },
     "execution_count": 6,
     "metadata": {},
     "output_type": "execute_result"
    }
   ],
   "source": [
    "V = \"LJY\"\n",
    "V.casefold()"
   ]
  },
  {
   "cell_type": "markdown",
   "id": "37189923",
   "metadata": {},
   "source": [
    "# CENTRE"
   ]
  },
  {
   "cell_type": "code",
   "execution_count": 7,
   "id": "e83f9312",
   "metadata": {},
   "outputs": [
    {
     "data": {
      "text/plain": [
       "'&&&&&&&&&&&&&&&&&&DHIVYA&&&&&&&&&&&&&&&&&'"
      ]
     },
     "execution_count": 7,
     "metadata": {},
     "output_type": "execute_result"
    }
   ],
   "source": [
    "C = \"DHIVYA\"\n",
    "C.center(41,\"&\")"
   ]
  },
  {
   "cell_type": "code",
   "execution_count": 8,
   "id": "417aed75",
   "metadata": {},
   "outputs": [
    {
     "data": {
      "text/plain": [
       "'@@@@@@@@@@@@@@@DHIVYA@@@@@@@@@@@@@@'"
      ]
     },
     "execution_count": 8,
     "metadata": {},
     "output_type": "execute_result"
    }
   ],
   "source": [
    "C = \"DHIVYA\"\n",
    "C.center(35,\"@\")"
   ]
  },
  {
   "cell_type": "code",
   "execution_count": 9,
   "id": "fc89f7d1",
   "metadata": {},
   "outputs": [
    {
     "data": {
      "text/plain": [
       "'^^^^^^^^^^^^^^^DHIVYA^^^^^^^^^^^^^^'"
      ]
     },
     "execution_count": 9,
     "metadata": {},
     "output_type": "execute_result"
    }
   ],
   "source": [
    "C = \"DHIVYA\"\n",
    "C.center(35,\"^\")"
   ]
  },
  {
   "cell_type": "markdown",
   "id": "de804087",
   "metadata": {},
   "source": [
    "# COUNT"
   ]
  },
  {
   "cell_type": "code",
   "execution_count": 10,
   "id": "8ab8c556",
   "metadata": {},
   "outputs": [
    {
     "data": {
      "text/plain": [
       "4"
      ]
     },
     "execution_count": 10,
     "metadata": {},
     "output_type": "execute_result"
    }
   ],
   "source": [
    "G =\"DD\",\"GG\",\"YY\",\"DD\",\"DD\",\"DD\"\n",
    "G.count(\"DD\")"
   ]
  },
  {
   "cell_type": "markdown",
   "id": "fe1dd50a",
   "metadata": {},
   "source": [
    "# ISNALNUM"
   ]
  },
  {
   "cell_type": "code",
   "execution_count": 11,
   "id": "b6c6e268",
   "metadata": {},
   "outputs": [
    {
     "data": {
      "text/plain": [
       "True"
      ]
     },
     "execution_count": 11,
     "metadata": {},
     "output_type": "execute_result"
    }
   ],
   "source": [
    "H = \"GIFT\"\n",
    "H.isalnum()"
   ]
  },
  {
   "cell_type": "code",
   "execution_count": 12,
   "id": "2d724911",
   "metadata": {},
   "outputs": [
    {
     "data": {
      "text/plain": [
       "True"
      ]
     },
     "execution_count": 12,
     "metadata": {},
     "output_type": "execute_result"
    }
   ],
   "source": [
    "H = \"123\"\n",
    "H.isalnum()"
   ]
  },
  {
   "cell_type": "code",
   "execution_count": 13,
   "id": "c90eea1c",
   "metadata": {},
   "outputs": [
    {
     "data": {
      "text/plain": [
       "False"
      ]
     },
     "execution_count": 13,
     "metadata": {},
     "output_type": "execute_result"
    }
   ],
   "source": [
    "G = \"DHIVYA LAKSHMI\"\n",
    "G.isalnum()"
   ]
  },
  {
   "cell_type": "code",
   "execution_count": 14,
   "id": "5219ea47",
   "metadata": {},
   "outputs": [
    {
     "data": {
      "text/plain": [
       "False"
      ]
     },
     "execution_count": 14,
     "metadata": {},
     "output_type": "execute_result"
    }
   ],
   "source": [
    "G = \"DHIVYA_LAKSHMI\"\n",
    "G.isalnum()"
   ]
  },
  {
   "cell_type": "markdown",
   "id": "baee5431",
   "metadata": {},
   "source": [
    "# ISALPHA"
   ]
  },
  {
   "cell_type": "code",
   "execution_count": 15,
   "id": "67bd68f6",
   "metadata": {},
   "outputs": [
    {
     "data": {
      "text/plain": [
       "True"
      ]
     },
     "execution_count": 15,
     "metadata": {},
     "output_type": "execute_result"
    }
   ],
   "source": [
    "clg = \"research\"\n",
    "clg.isalpha()"
   ]
  },
  {
   "cell_type": "code",
   "execution_count": 16,
   "id": "37549ab6",
   "metadata": {},
   "outputs": [
    {
     "data": {
      "text/plain": [
       "False"
      ]
     },
     "execution_count": 16,
     "metadata": {},
     "output_type": "execute_result"
    }
   ],
   "source": [
    "DOG = \"123\"\n",
    "DOG.isalpha()"
   ]
  },
  {
   "cell_type": "code",
   "execution_count": 17,
   "id": "5457e2aa",
   "metadata": {},
   "outputs": [
    {
     "data": {
      "text/plain": [
       "False"
      ]
     },
     "execution_count": 17,
     "metadata": {},
     "output_type": "execute_result"
    }
   ],
   "source": [
    "CAT = \"ABC123\"\n",
    "CAT.isalpha()"
   ]
  },
  {
   "cell_type": "markdown",
   "id": "6e3918d9",
   "metadata": {},
   "source": [
    "# ISASCII - \"American Standard Code for Information Interchange\""
   ]
  },
  {
   "cell_type": "code",
   "execution_count": 18,
   "id": "e5f09360",
   "metadata": {},
   "outputs": [
    {
     "data": {
      "text/plain": [
       "True"
      ]
     },
     "execution_count": 18,
     "metadata": {},
     "output_type": "execute_result"
    }
   ],
   "source": [
    "X = \"fddddddddddd6666666\"\n",
    "X.isascii()"
   ]
  },
  {
   "cell_type": "code",
   "execution_count": 19,
   "id": "e1c81585",
   "metadata": {},
   "outputs": [
    {
     "data": {
      "text/plain": [
       "True"
      ]
     },
     "execution_count": 19,
     "metadata": {},
     "output_type": "execute_result"
    }
   ],
   "source": [
    "X = \"4141\"\n",
    "X.isascii()"
   ]
  },
  {
   "cell_type": "markdown",
   "id": "9183f550",
   "metadata": {},
   "source": [
    "# ISDECIMAL"
   ]
  },
  {
   "cell_type": "code",
   "execution_count": 20,
   "id": "f24be488",
   "metadata": {},
   "outputs": [
    {
     "data": {
      "text/plain": [
       "False"
      ]
     },
     "execution_count": 20,
     "metadata": {},
     "output_type": "execute_result"
    }
   ],
   "source": [
    "good = \"juice\"\n",
    "good.isdecimal()"
   ]
  },
  {
   "cell_type": "code",
   "execution_count": 21,
   "id": "d02f9ba1",
   "metadata": {},
   "outputs": [
    {
     "data": {
      "text/plain": [
       "True"
      ]
     },
     "execution_count": 21,
     "metadata": {},
     "output_type": "execute_result"
    }
   ],
   "source": [
    "good = \"12\"\n",
    "good.isdecimal()"
   ]
  },
  {
   "cell_type": "code",
   "execution_count": 22,
   "id": "8fe9fc69",
   "metadata": {},
   "outputs": [
    {
     "data": {
      "text/plain": [
       "False"
      ]
     },
     "execution_count": 22,
     "metadata": {},
     "output_type": "execute_result"
    }
   ],
   "source": [
    "good = \"12.99\"\n",
    "good.isdecimal()"
   ]
  },
  {
   "cell_type": "markdown",
   "id": "800bfa4a",
   "metadata": {},
   "source": [
    "# ISDIGIT"
   ]
  },
  {
   "cell_type": "code",
   "execution_count": 23,
   "id": "b308b448",
   "metadata": {},
   "outputs": [
    {
     "data": {
      "text/plain": [
       "False"
      ]
     },
     "execution_count": 23,
     "metadata": {},
     "output_type": "execute_result"
    }
   ],
   "source": [
    "DATA = \"HIGH\"\n",
    "DATA.isdigit()"
   ]
  },
  {
   "cell_type": "code",
   "execution_count": 24,
   "id": "0fd5a276",
   "metadata": {},
   "outputs": [
    {
     "data": {
      "text/plain": [
       "True"
      ]
     },
     "execution_count": 24,
     "metadata": {},
     "output_type": "execute_result"
    }
   ],
   "source": [
    "SCIENCE = \"33\"\n",
    "SCIENCE.isdigit()"
   ]
  },
  {
   "cell_type": "markdown",
   "id": "0f1bba6b",
   "metadata": {},
   "source": [
    "# ISIDENTIFIER"
   ]
  },
  {
   "cell_type": "code",
   "execution_count": 27,
   "id": "bd94c38b",
   "metadata": {},
   "outputs": [
    {
     "data": {
      "text/plain": [
       "True"
      ]
     },
     "execution_count": 27,
     "metadata": {},
     "output_type": "execute_result"
    }
   ],
   "source": [
    "AI = \"ARTIFICIAL_INTELLIGENCE\"\n",
    "AI.isidentifier()"
   ]
  },
  {
   "cell_type": "code",
   "execution_count": 28,
   "id": "afa657e4",
   "metadata": {},
   "outputs": [
    {
     "data": {
      "text/plain": [
       "False"
      ]
     },
     "execution_count": 28,
     "metadata": {},
     "output_type": "execute_result"
    }
   ],
   "source": [
    "AI = \"ARTIFICIAL INTELLIGENCE\"\n",
    "AI.isidentifier()"
   ]
  },
  {
   "cell_type": "code",
   "execution_count": 29,
   "id": "5fb74430",
   "metadata": {},
   "outputs": [
    {
     "data": {
      "text/plain": [
       "True"
      ]
     },
     "execution_count": 29,
     "metadata": {},
     "output_type": "execute_result"
    }
   ],
   "source": [
    "AI = \"dhivi\"\n",
    "AI.isidentifier()"
   ]
  },
  {
   "cell_type": "markdown",
   "id": "7c147b49",
   "metadata": {},
   "source": [
    "# LOWER"
   ]
  },
  {
   "cell_type": "code",
   "execution_count": 30,
   "id": "1e985e8a",
   "metadata": {},
   "outputs": [
    {
     "data": {
      "text/plain": [
       "False"
      ]
     },
     "execution_count": 30,
     "metadata": {},
     "output_type": "execute_result"
    }
   ],
   "source": [
    "AI = \"ARTIFICIAL_INTELLIGENCE\"\n",
    "AI.islower()"
   ]
  },
  {
   "cell_type": "code",
   "execution_count": 31,
   "id": "a8ba1be5",
   "metadata": {},
   "outputs": [
    {
     "data": {
      "text/plain": [
       "True"
      ]
     },
     "execution_count": 31,
     "metadata": {},
     "output_type": "execute_result"
    }
   ],
   "source": [
    "AI = \"_aaaaaaaaaa\"\n",
    "AI.islower()"
   ]
  },
  {
   "cell_type": "code",
   "execution_count": 32,
   "id": "f786c9b7",
   "metadata": {},
   "outputs": [
    {
     "data": {
      "text/plain": [
       "True"
      ]
     },
     "execution_count": 32,
     "metadata": {},
     "output_type": "execute_result"
    }
   ],
   "source": [
    "AI = \"aaaaaaaaaa\"\n",
    "AI.islower()"
   ]
  },
  {
   "cell_type": "markdown",
   "id": "829411e3",
   "metadata": {},
   "source": [
    "# ISNUMERIC"
   ]
  },
  {
   "cell_type": "code",
   "execution_count": 33,
   "id": "a02330df",
   "metadata": {},
   "outputs": [
    {
     "data": {
      "text/plain": [
       "False"
      ]
     },
     "execution_count": 33,
     "metadata": {},
     "output_type": "execute_result"
    }
   ],
   "source": [
    "ML = \"DOG\"\n",
    "ML.isnumeric()"
   ]
  },
  {
   "cell_type": "code",
   "execution_count": 34,
   "id": "c929bd33",
   "metadata": {},
   "outputs": [
    {
     "data": {
      "text/plain": [
       "True"
      ]
     },
     "execution_count": 34,
     "metadata": {},
     "output_type": "execute_result"
    }
   ],
   "source": [
    "ML = \"544444\"\n",
    "ML.isnumeric()"
   ]
  },
  {
   "cell_type": "markdown",
   "id": "9ce83e80",
   "metadata": {},
   "source": [
    "# ISPRINTABLE"
   ]
  },
  {
   "cell_type": "code",
   "execution_count": 35,
   "id": "2ec9fee2",
   "metadata": {},
   "outputs": [
    {
     "data": {
      "text/plain": [
       "True"
      ]
     },
     "execution_count": 35,
     "metadata": {},
     "output_type": "execute_result"
    }
   ],
   "source": [
    "DL = \"Deeplearning\"\n",
    "DL.isprintable()"
   ]
  },
  {
   "cell_type": "markdown",
   "id": "52136098",
   "metadata": {},
   "source": [
    "# ISSAPCE"
   ]
  },
  {
   "cell_type": "code",
   "execution_count": 36,
   "id": "dc1d3c14",
   "metadata": {},
   "outputs": [
    {
     "data": {
      "text/plain": [
       "True"
      ]
     },
     "execution_count": 36,
     "metadata": {},
     "output_type": "execute_result"
    }
   ],
   "source": [
    "Hari = \" \"\n",
    "Hari.isspace()"
   ]
  },
  {
   "cell_type": "markdown",
   "id": "9cab4c02",
   "metadata": {},
   "source": [
    "# ISTITLE"
   ]
  },
  {
   "cell_type": "code",
   "execution_count": 1,
   "id": "307c2288",
   "metadata": {},
   "outputs": [
    {
     "data": {
      "text/plain": [
       "True"
      ]
     },
     "execution_count": 1,
     "metadata": {},
     "output_type": "execute_result"
    }
   ],
   "source": [
    "dhivi = \"Dhivyaaaaaaaaaaaa Is A Good Girl\"\n",
    "dhivi.istitle()"
   ]
  },
  {
   "cell_type": "code",
   "execution_count": 2,
   "id": "22dca1a9",
   "metadata": {},
   "outputs": [
    {
     "data": {
      "text/plain": [
       "True"
      ]
     },
     "execution_count": 2,
     "metadata": {},
     "output_type": "execute_result"
    }
   ],
   "source": [
    "dhivi = \"Artificial Intelligence\"\n",
    "dhivi.istitle()"
   ]
  },
  {
   "cell_type": "code",
   "execution_count": 3,
   "id": "036b48ab",
   "metadata": {},
   "outputs": [
    {
     "data": {
      "text/plain": [
       "False"
      ]
     },
     "execution_count": 3,
     "metadata": {},
     "output_type": "execute_result"
    }
   ],
   "source": [
    "dhivi = \"artificialintelligence\"\n",
    "dhivi.istitle()"
   ]
  },
  {
   "cell_type": "markdown",
   "id": "6d3889da",
   "metadata": {},
   "source": [
    "# ISSUPPER"
   ]
  },
  {
   "cell_type": "code",
   "execution_count": 4,
   "id": "5cc23b41",
   "metadata": {},
   "outputs": [
    {
     "data": {
      "text/plain": [
       "True"
      ]
     },
     "execution_count": 4,
     "metadata": {},
     "output_type": "execute_result"
    }
   ],
   "source": [
    "laksh = \"HARISH\"\n",
    "laksh.isupper()"
   ]
  },
  {
   "cell_type": "code",
   "execution_count": 5,
   "id": "75290856",
   "metadata": {},
   "outputs": [
    {
     "data": {
      "text/plain": [
       "False"
      ]
     },
     "execution_count": 5,
     "metadata": {},
     "output_type": "execute_result"
    }
   ],
   "source": [
    "laksh = \"Harishhh\"\n",
    "laksh.isupper()"
   ]
  },
  {
   "cell_type": "markdown",
   "id": "094745a0",
   "metadata": {},
   "source": [
    "# STRIP"
   ]
  },
  {
   "cell_type": "code",
   "execution_count": 6,
   "id": "75e3ecc5",
   "metadata": {},
   "outputs": [
    {
     "data": {
      "text/plain": [
       "'RJHD'"
      ]
     },
     "execution_count": 6,
     "metadata": {},
     "output_type": "execute_result"
    }
   ],
   "source": [
    "Fam = \"       RJHD               \"\n",
    "Fam.strip()"
   ]
  },
  {
   "cell_type": "code",
   "execution_count": 7,
   "id": "77ad3f44",
   "metadata": {},
   "outputs": [
    {
     "data": {
      "text/plain": [
       "'RJHD               '"
      ]
     },
     "execution_count": 7,
     "metadata": {},
     "output_type": "execute_result"
    }
   ],
   "source": [
    "Fam = \"       RJHD               \"\n",
    "Fam.lstrip()"
   ]
  },
  {
   "cell_type": "code",
   "execution_count": 8,
   "id": "fcc0b0f7",
   "metadata": {},
   "outputs": [
    {
     "data": {
      "text/plain": [
       "'       RJHD'"
      ]
     },
     "execution_count": 8,
     "metadata": {},
     "output_type": "execute_result"
    }
   ],
   "source": [
    "Fam = \"       RJHD               \"\n",
    "Fam.rstrip()"
   ]
  },
  {
   "cell_type": "markdown",
   "id": "0eabb878",
   "metadata": {},
   "source": [
    "# LOWER"
   ]
  },
  {
   "cell_type": "code",
   "execution_count": 9,
   "id": "6232bdc2",
   "metadata": {},
   "outputs": [
    {
     "data": {
      "text/plain": [
       "'dhivya'"
      ]
     },
     "execution_count": 9,
     "metadata": {},
     "output_type": "execute_result"
    }
   ],
   "source": [
    "H = \"DHIVYA\"\n",
    "H.lower()"
   ]
  },
  {
   "cell_type": "code",
   "execution_count": 10,
   "id": "d7e4f6e2",
   "metadata": {},
   "outputs": [
    {
     "data": {
      "text/plain": [
       "'sekar'"
      ]
     },
     "execution_count": 10,
     "metadata": {},
     "output_type": "execute_result"
    }
   ],
   "source": [
    "H = \"SEKAR\"\n",
    "H.lower()"
   ]
  },
  {
   "cell_type": "markdown",
   "id": "4da13cf2",
   "metadata": {},
   "source": [
    "# UPPER"
   ]
  },
  {
   "cell_type": "code",
   "execution_count": 11,
   "id": "78892b12",
   "metadata": {},
   "outputs": [
    {
     "data": {
      "text/plain": [
       "'DHIVYALAKSHMI.R.J'"
      ]
     },
     "execution_count": 11,
     "metadata": {},
     "output_type": "execute_result"
    }
   ],
   "source": [
    "H = \"dhivyalakshmi.r.j\"\n",
    "H.upper()"
   ]
  },
  {
   "cell_type": "code",
   "execution_count": 12,
   "id": "239a83ed",
   "metadata": {},
   "outputs": [
    {
     "data": {
      "text/plain": [
       "'HARISHSEKARAN'"
      ]
     },
     "execution_count": 12,
     "metadata": {},
     "output_type": "execute_result"
    }
   ],
   "source": [
    "T =\"harishsekaran\"\n",
    "T.upper()"
   ]
  },
  {
   "cell_type": "markdown",
   "id": "459b4e65",
   "metadata": {},
   "source": [
    "# SPLIT"
   ]
  },
  {
   "cell_type": "code",
   "execution_count": 15,
   "id": "94121fbe",
   "metadata": {},
   "outputs": [
    {
     "data": {
      "text/plain": [
       "['Artificial', 'intelligence', 'is', 'a', 'advanced', 'technology']"
      ]
     },
     "execution_count": 15,
     "metadata": {},
     "output_type": "execute_result"
    }
   ],
   "source": [
    "Data = \"Artificial intelligence is a advanced technology\"\n",
    "Data.split()"
   ]
  },
  {
   "cell_type": "code",
   "execution_count": 14,
   "id": "81a35e2b",
   "metadata": {},
   "outputs": [
    {
     "data": {
      "text/plain": [
       "['Artificial intelligence ', ' a advanced technology']"
      ]
     },
     "execution_count": 14,
     "metadata": {},
     "output_type": "execute_result"
    }
   ],
   "source": [
    "Data = \"Artificial intelligence is a advanced technology\"\n",
    "Data.split(\"is\")"
   ]
  },
  {
   "cell_type": "markdown",
   "id": "d97d73ab",
   "metadata": {},
   "source": [
    "# SWAP CASE"
   ]
  },
  {
   "cell_type": "code",
   "execution_count": 16,
   "id": "caaa2eaf",
   "metadata": {},
   "outputs": [
    {
     "data": {
      "text/plain": [
       "'dHIvYA'"
      ]
     },
     "execution_count": 16,
     "metadata": {},
     "output_type": "execute_result"
    }
   ],
   "source": [
    "HER = \"DhiVya\"\n",
    "HER.swapcase()"
   ]
  },
  {
   "cell_type": "code",
   "execution_count": 17,
   "id": "8add9422",
   "metadata": {},
   "outputs": [
    {
     "data": {
      "text/plain": [
       "'hEAD'"
      ]
     },
     "execution_count": 17,
     "metadata": {},
     "output_type": "execute_result"
    }
   ],
   "source": [
    "HER = \"Head\"\n",
    "HER.swapcase()"
   ]
  }
 ],
 "metadata": {
  "kernelspec": {
   "display_name": "Python 3 (ipykernel)",
   "language": "python",
   "name": "python3"
  },
  "language_info": {
   "codemirror_mode": {
    "name": "ipython",
    "version": 3
   },
   "file_extension": ".py",
   "mimetype": "text/x-python",
   "name": "python",
   "nbconvert_exporter": "python",
   "pygments_lexer": "ipython3",
   "version": "3.10.9"
  }
 },
 "nbformat": 4,
 "nbformat_minor": 5
}
